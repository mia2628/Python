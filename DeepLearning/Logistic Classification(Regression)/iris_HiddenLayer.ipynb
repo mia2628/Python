{
  "nbformat": 4,
  "nbformat_minor": 0,
  "metadata": {
    "colab": {
      "name": "iris.ipynb",
      "provenance": []
    },
    "kernelspec": {
      "name": "python3",
      "display_name": "Python 3"
    }
  },
  "cells": [
    {
      "cell_type": "code",
      "metadata": {
        "id": "f1nFuMRfkqln"
      },
      "source": [
        "import tensorflow as tf\r\n",
        "import pandas as pd"
      ],
      "execution_count": 1,
      "outputs": []
    },
    {
      "cell_type": "code",
      "metadata": {
        "id": "gVgBHooVkshR"
      },
      "source": [
        "# 1.과거의 데이터를 준비합니다.\r\n",
        "파일경로 = 'https://raw.githubusercontent.com/blackdew/tensorflow1/master/csv/iris.csv'\r\n",
        "아이리스 = pd.read_csv(파일경로)\r\n",
        "아이리스.head()\r\n",
        "아이리스 = pd.get_dummies(아이리스)"
      ],
      "execution_count": 2,
      "outputs": []
    },
    {
      "cell_type": "code",
      "metadata": {
        "colab": {
          "base_uri": "https://localhost:8080/"
        },
        "id": "9rIe5u-7kv9y",
        "outputId": "634c1645-b103-4ad0-b860-1c07a22c54b7"
      },
      "source": [
        "독립 = 아이리스[['꽃잎길이', '꽃잎폭', '꽃받침길이', '꽃받침폭']]\r\n",
        "종속 = 아이리스[['품종_setosa', '품종_versicolor', '품종_virginica']]\r\n",
        "print(독립.shape, 종속.shape)"
      ],
      "execution_count": 3,
      "outputs": [
        {
          "output_type": "stream",
          "text": [
            "(150, 4) (150, 3)\n"
          ],
          "name": "stdout"
        }
      ]
    },
    {
      "cell_type": "code",
      "metadata": {
        "id": "nCMA5QTuk6PB"
      },
      "source": [
        "# 2. 모델의 구조를 만듭니다\r\n",
        "X = tf.keras.layers.Input(shape=[4])\r\n",
        "H = tf.keras.layers.Dense(8, activation=\"swish\")(X)\r\n",
        "H = tf.keras.layers.Dense(8, activation=\"swish\")(H)\r\n",
        "H = tf.keras.layers.Dense(8, activation=\"swish\")(H)\r\n",
        "Y = tf.keras.layers.Dense(3, activation='softmax')(H)\r\n",
        "model = tf.keras.models.Model(X, Y)\r\n",
        "model.compile(loss='categorical_crossentropy',\r\n",
        "              metrics='accuracy')"
      ],
      "execution_count": 4,
      "outputs": []
    },
    {
      "cell_type": "code",
      "metadata": {
        "colab": {
          "base_uri": "https://localhost:8080/"
        },
        "id": "29MJB9VA53NC",
        "outputId": "eb7e0c0e-90de-40ea-ee5f-7db90d30ecfd"
      },
      "source": [
        "model.summary()"
      ],
      "execution_count": 5,
      "outputs": [
        {
          "output_type": "stream",
          "text": [
            "Model: \"model\"\n",
            "_________________________________________________________________\n",
            "Layer (type)                 Output Shape              Param #   \n",
            "=================================================================\n",
            "input_1 (InputLayer)         [(None, 4)]               0         \n",
            "_________________________________________________________________\n",
            "dense (Dense)                (None, 8)                 40        \n",
            "_________________________________________________________________\n",
            "dense_1 (Dense)              (None, 8)                 72        \n",
            "_________________________________________________________________\n",
            "dense_2 (Dense)              (None, 8)                 72        \n",
            "_________________________________________________________________\n",
            "dense_3 (Dense)              (None, 3)                 27        \n",
            "=================================================================\n",
            "Total params: 211\n",
            "Trainable params: 211\n",
            "Non-trainable params: 0\n",
            "_________________________________________________________________\n"
          ],
          "name": "stdout"
        }
      ]
    },
    {
      "cell_type": "code",
      "metadata": {
        "colab": {
          "base_uri": "https://localhost:8080/"
        },
        "id": "6T3zsoc1k-oK",
        "outputId": "612b59f0-0fce-486d-f04b-e23a43abf70d"
      },
      "source": [
        "# 3.데이터로 모델을 학습(FIT)합니다.\r\n",
        "model.fit(독립, 종속, epochs=1000, verbose=0)\r\n",
        "model.fit(독립, 종속, epochs=10)"
      ],
      "execution_count": 6,
      "outputs": [
        {
          "output_type": "stream",
          "text": [
            "Epoch 1/10\n",
            "5/5 [==============================] - 0s 3ms/step - loss: 0.0438 - accuracy: 0.9800\n",
            "Epoch 2/10\n",
            "5/5 [==============================] - 0s 2ms/step - loss: 0.0489 - accuracy: 0.9733\n",
            "Epoch 3/10\n",
            "5/5 [==============================] - 0s 2ms/step - loss: 0.0422 - accuracy: 0.9800\n",
            "Epoch 4/10\n",
            "5/5 [==============================] - 0s 2ms/step - loss: 0.0468 - accuracy: 0.9867\n",
            "Epoch 5/10\n",
            "5/5 [==============================] - 0s 2ms/step - loss: 0.0530 - accuracy: 0.9800\n",
            "Epoch 6/10\n",
            "5/5 [==============================] - 0s 2ms/step - loss: 0.0489 - accuracy: 0.9800\n",
            "Epoch 7/10\n",
            "5/5 [==============================] - 0s 2ms/step - loss: 0.0509 - accuracy: 0.9800\n",
            "Epoch 8/10\n",
            "5/5 [==============================] - 0s 2ms/step - loss: 0.0504 - accuracy: 0.9800\n",
            "Epoch 9/10\n",
            "5/5 [==============================] - 0s 2ms/step - loss: 0.0459 - accuracy: 0.9733\n",
            "Epoch 10/10\n",
            "5/5 [==============================] - 0s 2ms/step - loss: 0.0436 - accuracy: 0.9800\n"
          ],
          "name": "stdout"
        },
        {
          "output_type": "execute_result",
          "data": {
            "text/plain": [
              "<tensorflow.python.keras.callbacks.History at 0x7fc904164630>"
            ]
          },
          "metadata": {
            "tags": []
          },
          "execution_count": 6
        }
      ]
    },
    {
      "cell_type": "code",
      "metadata": {
        "colab": {
          "base_uri": "https://localhost:8080/"
        },
        "id": "HCxf9zAblAuS",
        "outputId": "e63486ee-f91f-4cfe-e7bf-5918c3dbed25"
      },
      "source": [
        "# 4. 모델을 이용합니다\r\n",
        "print(model.predict(독립[:5]))\r\n",
        "print(종속[:5])"
      ],
      "execution_count": null,
      "outputs": [
        {
          "output_type": "stream",
          "text": [
            "[[9.9888140e-01 1.1183745e-03 2.4645675e-07]\n",
            " [9.9582481e-01 4.1733850e-03 1.7714831e-06]\n",
            " [9.9800795e-01 1.9913290e-03 7.7067642e-07]\n",
            " [9.9429768e-01 5.6989775e-03 3.3249496e-06]\n",
            " [9.9906737e-01 9.3242346e-04 2.0726823e-07]]\n",
            "   품종_setosa  품종_versicolor  품종_virginica\n",
            "0          1              0             0\n",
            "1          1              0             0\n",
            "2          1              0             0\n",
            "3          1              0             0\n",
            "4          1              0             0\n"
          ],
          "name": "stdout"
        }
      ]
    },
    {
      "cell_type": "code",
      "metadata": {
        "colab": {
          "base_uri": "https://localhost:8080/"
        },
        "id": "Y0ZBYxM2lFby",
        "outputId": "69b49eb3-9477-4f8f-9e85-a63f0ad4c11a"
      },
      "source": [
        "# weights & bias 출력\r\n",
        "print(model.get_weights())"
      ],
      "execution_count": null,
      "outputs": [
        {
          "output_type": "stream",
          "text": [
            "[array([[ 0.76539147,  0.18002376, -0.81839705],\n",
            "       [ 2.397471  , -0.0082116 , -0.9199122 ],\n",
            "       [-3.9857068 , -0.20518649,  0.8920358 ],\n",
            "       [-3.0819938 , -1.5374883 ,  2.0295527 ]], dtype=float32), array([ 2.0153842,  1.0242603, -1.3625611], dtype=float32)]\n"
          ],
          "name": "stdout"
        }
      ]
    },
    {
      "cell_type": "code",
      "metadata": {
        "id": "N8YKumdtlIMl"
      },
      "source": [
        ""
      ],
      "execution_count": null,
      "outputs": []
    }
  ]
}