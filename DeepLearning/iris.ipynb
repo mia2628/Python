{
  "nbformat": 4,
  "nbformat_minor": 0,
  "metadata": {
    "colab": {
      "name": "iris.ipynb",
      "provenance": []
    },
    "kernelspec": {
      "name": "python3",
      "display_name": "Python 3"
    }
  },
  "cells": [
    {
      "cell_type": "code",
      "metadata": {
        "id": "TXP3yfaOQy14"
      },
      "source": [
        "import tensorflow as tf\n",
        "import pandas as pd\n",
        "import numpy as np"
      ],
      "execution_count": 1,
      "outputs": []
    },
    {
      "cell_type": "code",
      "metadata": {
        "id": "Mri4kEkmQ3XM",
        "outputId": "54566974-b505-44f4-b5d3-54ff5cf1e333",
        "colab": {
          "base_uri": "https://localhost:8080/",
          "height": 198
        }
      },
      "source": [
        "파일경로 = 'https://raw.githubusercontent.com/blackdew/tensorflow1/master/csv/lemonade.csv'\n",
        "레모네이드 = pd.read_csv(파일경로)\n",
        "레모네이드.head()"
      ],
      "execution_count": 2,
      "outputs": [
        {
          "output_type": "execute_result",
          "data": {
            "text/html": [
              "<div>\n",
              "<style scoped>\n",
              "    .dataframe tbody tr th:only-of-type {\n",
              "        vertical-align: middle;\n",
              "    }\n",
              "\n",
              "    .dataframe tbody tr th {\n",
              "        vertical-align: top;\n",
              "    }\n",
              "\n",
              "    .dataframe thead th {\n",
              "        text-align: right;\n",
              "    }\n",
              "</style>\n",
              "<table border=\"1\" class=\"dataframe\">\n",
              "  <thead>\n",
              "    <tr style=\"text-align: right;\">\n",
              "      <th></th>\n",
              "      <th>온도</th>\n",
              "      <th>판매량</th>\n",
              "    </tr>\n",
              "  </thead>\n",
              "  <tbody>\n",
              "    <tr>\n",
              "      <th>0</th>\n",
              "      <td>20</td>\n",
              "      <td>40</td>\n",
              "    </tr>\n",
              "    <tr>\n",
              "      <th>1</th>\n",
              "      <td>21</td>\n",
              "      <td>42</td>\n",
              "    </tr>\n",
              "    <tr>\n",
              "      <th>2</th>\n",
              "      <td>22</td>\n",
              "      <td>44</td>\n",
              "    </tr>\n",
              "    <tr>\n",
              "      <th>3</th>\n",
              "      <td>23</td>\n",
              "      <td>46</td>\n",
              "    </tr>\n",
              "    <tr>\n",
              "      <th>4</th>\n",
              "      <td>24</td>\n",
              "      <td>48</td>\n",
              "    </tr>\n",
              "  </tbody>\n",
              "</table>\n",
              "</div>"
            ],
            "text/plain": [
              "   온도  판매량\n",
              "0  20   40\n",
              "1  21   42\n",
              "2  22   44\n",
              "3  23   46\n",
              "4  24   48"
            ]
          },
          "metadata": {
            "tags": []
          },
          "execution_count": 2
        }
      ]
    },
    {
      "cell_type": "code",
      "metadata": {
        "id": "xgN4ScNpRBWB",
        "outputId": "6608c291-ca79-4eb1-fa0c-88fe1435c97c",
        "colab": {
          "base_uri": "https://localhost:8080/",
          "height": 228
        }
      },
      "source": [
        "독립 = 레모네이드[['온도']]\n",
        "종속 = 레모네이드[['판매량']]\n",
        "독립"
      ],
      "execution_count": 3,
      "outputs": [
        {
          "output_type": "execute_result",
          "data": {
            "text/html": [
              "<div>\n",
              "<style scoped>\n",
              "    .dataframe tbody tr th:only-of-type {\n",
              "        vertical-align: middle;\n",
              "    }\n",
              "\n",
              "    .dataframe tbody tr th {\n",
              "        vertical-align: top;\n",
              "    }\n",
              "\n",
              "    .dataframe thead th {\n",
              "        text-align: right;\n",
              "    }\n",
              "</style>\n",
              "<table border=\"1\" class=\"dataframe\">\n",
              "  <thead>\n",
              "    <tr style=\"text-align: right;\">\n",
              "      <th></th>\n",
              "      <th>온도</th>\n",
              "    </tr>\n",
              "  </thead>\n",
              "  <tbody>\n",
              "    <tr>\n",
              "      <th>0</th>\n",
              "      <td>20</td>\n",
              "    </tr>\n",
              "    <tr>\n",
              "      <th>1</th>\n",
              "      <td>21</td>\n",
              "    </tr>\n",
              "    <tr>\n",
              "      <th>2</th>\n",
              "      <td>22</td>\n",
              "    </tr>\n",
              "    <tr>\n",
              "      <th>3</th>\n",
              "      <td>23</td>\n",
              "    </tr>\n",
              "    <tr>\n",
              "      <th>4</th>\n",
              "      <td>24</td>\n",
              "    </tr>\n",
              "    <tr>\n",
              "      <th>5</th>\n",
              "      <td>25</td>\n",
              "    </tr>\n",
              "  </tbody>\n",
              "</table>\n",
              "</div>"
            ],
            "text/plain": [
              "   온도\n",
              "0  20\n",
              "1  21\n",
              "2  22\n",
              "3  23\n",
              "4  24\n",
              "5  25"
            ]
          },
          "metadata": {
            "tags": []
          },
          "execution_count": 3
        }
      ]
    },
    {
      "cell_type": "code",
      "metadata": {
        "id": "s-fpogmaRHdL",
        "outputId": "7970fb7f-3f4c-4fd6-bebe-ddaad23961f2",
        "colab": {
          "base_uri": "https://localhost:8080/",
          "height": 36
        }
      },
      "source": [
        "print(독립.shape, 종속.shape)"
      ],
      "execution_count": 4,
      "outputs": [
        {
          "output_type": "stream",
          "text": [
            "(6, 1) (6, 1)\n"
          ],
          "name": "stdout"
        }
      ]
    },
    {
      "cell_type": "code",
      "metadata": {
        "id": "IJR6KwN7RKYZ"
      },
      "source": [
        "X = tf.keras.layers.Input(shape=[1]) #독립 shape에서 col\n",
        "Y = tf.keras.layers.Dense(1)(X)\n",
        "model = tf.keras.models.Model(X,Y)\n",
        "model.compile(loss='mse')"
      ],
      "execution_count": 5,
      "outputs": []
    },
    {
      "cell_type": "code",
      "metadata": {
        "id": "ISbU7BxVRdHr",
        "outputId": "bc56269c-65eb-45e1-d4de-f2e4d496dbd6",
        "colab": {
          "base_uri": "https://localhost:8080/",
          "height": 407
        }
      },
      "source": [
        "model.fit(독립,종속, epochs=10)"
      ],
      "execution_count": 6,
      "outputs": [
        {
          "output_type": "stream",
          "text": [
            "Epoch 1/10\n",
            "1/1 [==============================] - 0s 2ms/step - loss: 870.5754\n",
            "Epoch 2/10\n",
            "1/1 [==============================] - 0s 5ms/step - loss: 866.1841\n",
            "Epoch 3/10\n",
            "1/1 [==============================] - 0s 5ms/step - loss: 863.0092\n",
            "Epoch 4/10\n",
            "1/1 [==============================] - 0s 1ms/step - loss: 860.3570\n",
            "Epoch 5/10\n",
            "1/1 [==============================] - 0s 1ms/step - loss: 858.0075\n",
            "Epoch 6/10\n",
            "1/1 [==============================] - 0s 2ms/step - loss: 855.8579\n",
            "Epoch 7/10\n",
            "1/1 [==============================] - 0s 1ms/step - loss: 853.8516\n",
            "Epoch 8/10\n",
            "1/1 [==============================] - 0s 1ms/step - loss: 851.9531\n",
            "Epoch 9/10\n",
            "1/1 [==============================] - 0s 3ms/step - loss: 850.1385\n",
            "Epoch 10/10\n",
            "1/1 [==============================] - 0s 2ms/step - loss: 848.3912\n"
          ],
          "name": "stdout"
        },
        {
          "output_type": "execute_result",
          "data": {
            "text/plain": [
              "<tensorflow.python.keras.callbacks.History at 0x7f95c62005c0>"
            ]
          },
          "metadata": {
            "tags": []
          },
          "execution_count": 6
        }
      ]
    },
    {
      "cell_type": "code",
      "metadata": {
        "id": "9gzfF0CKRhmo",
        "outputId": "59b304db-25af-4adc-e58e-fe9f51447b10",
        "colab": {
          "base_uri": "https://localhost:8080/",
          "height": 128
        }
      },
      "source": [
        "model.predict(독립)"
      ],
      "execution_count": 7,
      "outputs": [
        {
          "output_type": "execute_result",
          "data": {
            "text/plain": [
              "array([[14.211231],\n",
              "       [14.920928],\n",
              "       [15.630625],\n",
              "       [16.340322],\n",
              "       [17.050018],\n",
              "       [17.759716]], dtype=float32)"
            ]
          },
          "metadata": {
            "tags": []
          },
          "execution_count": 7
        }
      ]
    },
    {
      "cell_type": "code",
      "metadata": {
        "id": "Kslu7u9xRlMl",
        "outputId": "e4682462-f58a-434d-cf76-50dd9bb18246",
        "colab": {
          "base_uri": "https://localhost:8080/",
          "height": 36
        }
      },
      "source": [
        "model.get_weights()"
      ],
      "execution_count": 8,
      "outputs": [
        {
          "output_type": "execute_result",
          "data": {
            "text/plain": [
              "[array([[0.70969695]], dtype=float32), array([0.01729182], dtype=float32)]"
            ]
          },
          "metadata": {
            "tags": []
          },
          "execution_count": 8
        }
      ]
    },
    {
      "cell_type": "code",
      "metadata": {
        "id": "AUWUBNMMRq9V",
        "outputId": "06b0d2b1-cc3a-4e2a-e29f-2fa2a8b64aeb",
        "colab": {
          "base_uri": "https://localhost:8080/",
          "height": 36
        }
      },
      "source": [
        "model.fit(독립, 종속, epochs=1000, verbose=0)"
      ],
      "execution_count": 12,
      "outputs": [
        {
          "output_type": "execute_result",
          "data": {
            "text/plain": [
              "<tensorflow.python.keras.callbacks.History at 0x7f95c3bfdda0>"
            ]
          },
          "metadata": {
            "tags": []
          },
          "execution_count": 12
        }
      ]
    },
    {
      "cell_type": "code",
      "metadata": {
        "id": "uMCSgWhNRv9d",
        "outputId": "fc008546-be1c-4161-aba9-0f156f8a10ef",
        "colab": {
          "base_uri": "https://localhost:8080/",
          "height": 407
        }
      },
      "source": [
        "model.fit(독립,종속,epochs=10)"
      ],
      "execution_count": 13,
      "outputs": [
        {
          "output_type": "stream",
          "text": [
            "Epoch 1/10\n",
            "1/1 [==============================] - 0s 1ms/step - loss: 0.0053\n",
            "Epoch 2/10\n",
            "1/1 [==============================] - 0s 1ms/step - loss: 0.0052\n",
            "Epoch 3/10\n",
            "1/1 [==============================] - 0s 2ms/step - loss: 0.0052\n",
            "Epoch 4/10\n",
            "1/1 [==============================] - 0s 3ms/step - loss: 0.0052\n",
            "Epoch 5/10\n",
            "1/1 [==============================] - 0s 2ms/step - loss: 0.0052\n",
            "Epoch 6/10\n",
            "1/1 [==============================] - 0s 2ms/step - loss: 0.0052\n",
            "Epoch 7/10\n",
            "1/1 [==============================] - 0s 2ms/step - loss: 0.0052\n",
            "Epoch 8/10\n",
            "1/1 [==============================] - 0s 2ms/step - loss: 0.0052\n",
            "Epoch 9/10\n",
            "1/1 [==============================] - 0s 2ms/step - loss: 0.0052\n",
            "Epoch 10/10\n",
            "1/1 [==============================] - 0s 2ms/step - loss: 0.0052\n"
          ],
          "name": "stdout"
        },
        {
          "output_type": "execute_result",
          "data": {
            "text/plain": [
              "<tensorflow.python.keras.callbacks.History at 0x7f95c3373358>"
            ]
          },
          "metadata": {
            "tags": []
          },
          "execution_count": 13
        }
      ]
    },
    {
      "cell_type": "code",
      "metadata": {
        "id": "1T_GWwSdRzas",
        "outputId": "339692dd-faba-418b-959e-6507b3d1091f",
        "colab": {
          "base_uri": "https://localhost:8080/",
          "height": 128
        }
      },
      "source": [
        "model.predict(독립)"
      ],
      "execution_count": 14,
      "outputs": [
        {
          "output_type": "execute_result",
          "data": {
            "text/plain": [
              "array([[40.098736],\n",
              "       [42.056633],\n",
              "       [44.014534],\n",
              "       [45.97243 ],\n",
              "       [47.930332],\n",
              "       [49.88823 ]], dtype=float32)"
            ]
          },
          "metadata": {
            "tags": []
          },
          "execution_count": 14
        }
      ]
    },
    {
      "cell_type": "code",
      "metadata": {
        "id": "jXzCnMIVR17J",
        "outputId": "0fa6b8a3-ff26-4adc-d56f-c8ea94ea29f4",
        "colab": {
          "base_uri": "https://localhost:8080/",
          "height": 36
        }
      },
      "source": [
        "model.get_weights()"
      ],
      "execution_count": 15,
      "outputs": [
        {
          "output_type": "execute_result",
          "data": {
            "text/plain": [
              "[array([[1.9578992]], dtype=float32), array([0.94074863], dtype=float32)]"
            ]
          },
          "metadata": {
            "tags": []
          },
          "execution_count": 15
        }
      ]
    },
    {
      "cell_type": "code",
      "metadata": {
        "id": "TgYiEiDfR7mM",
        "outputId": "8cdf8d46-fd9a-4fef-f269-c665d690e61f",
        "colab": {
          "base_uri": "https://localhost:8080/",
          "height": 198
        }
      },
      "source": [
        "파일경로 = 'https://raw.githubusercontent.com/blackdew/tensorflow1/master/csv/iris.csv'\n",
        "dataset = pd.read_csv(파일경로)\n",
        "dataset.head()"
      ],
      "execution_count": 16,
      "outputs": [
        {
          "output_type": "execute_result",
          "data": {
            "text/html": [
              "<div>\n",
              "<style scoped>\n",
              "    .dataframe tbody tr th:only-of-type {\n",
              "        vertical-align: middle;\n",
              "    }\n",
              "\n",
              "    .dataframe tbody tr th {\n",
              "        vertical-align: top;\n",
              "    }\n",
              "\n",
              "    .dataframe thead th {\n",
              "        text-align: right;\n",
              "    }\n",
              "</style>\n",
              "<table border=\"1\" class=\"dataframe\">\n",
              "  <thead>\n",
              "    <tr style=\"text-align: right;\">\n",
              "      <th></th>\n",
              "      <th>꽃잎길이</th>\n",
              "      <th>꽃잎폭</th>\n",
              "      <th>꽃받침길이</th>\n",
              "      <th>꽃받침폭</th>\n",
              "      <th>품종</th>\n",
              "    </tr>\n",
              "  </thead>\n",
              "  <tbody>\n",
              "    <tr>\n",
              "      <th>0</th>\n",
              "      <td>5.1</td>\n",
              "      <td>3.5</td>\n",
              "      <td>1.4</td>\n",
              "      <td>0.2</td>\n",
              "      <td>setosa</td>\n",
              "    </tr>\n",
              "    <tr>\n",
              "      <th>1</th>\n",
              "      <td>4.9</td>\n",
              "      <td>3.0</td>\n",
              "      <td>1.4</td>\n",
              "      <td>0.2</td>\n",
              "      <td>setosa</td>\n",
              "    </tr>\n",
              "    <tr>\n",
              "      <th>2</th>\n",
              "      <td>4.7</td>\n",
              "      <td>3.2</td>\n",
              "      <td>1.3</td>\n",
              "      <td>0.2</td>\n",
              "      <td>setosa</td>\n",
              "    </tr>\n",
              "    <tr>\n",
              "      <th>3</th>\n",
              "      <td>4.6</td>\n",
              "      <td>3.1</td>\n",
              "      <td>1.5</td>\n",
              "      <td>0.2</td>\n",
              "      <td>setosa</td>\n",
              "    </tr>\n",
              "    <tr>\n",
              "      <th>4</th>\n",
              "      <td>5.0</td>\n",
              "      <td>3.6</td>\n",
              "      <td>1.4</td>\n",
              "      <td>0.2</td>\n",
              "      <td>setosa</td>\n",
              "    </tr>\n",
              "  </tbody>\n",
              "</table>\n",
              "</div>"
            ],
            "text/plain": [
              "   꽃잎길이  꽃잎폭  꽃받침길이  꽃받침폭      품종\n",
              "0   5.1  3.5    1.4   0.2  setosa\n",
              "1   4.9  3.0    1.4   0.2  setosa\n",
              "2   4.7  3.2    1.3   0.2  setosa\n",
              "3   4.6  3.1    1.5   0.2  setosa\n",
              "4   5.0  3.6    1.4   0.2  setosa"
            ]
          },
          "metadata": {
            "tags": []
          },
          "execution_count": 16
        }
      ]
    },
    {
      "cell_type": "code",
      "metadata": {
        "id": "v9_mjSVYSCgL",
        "outputId": "c1416246-db46-4c6f-ee82-ea1922cf443a",
        "colab": {
          "base_uri": "https://localhost:8080/",
          "height": 198
        }
      },
      "source": [
        "#onehotencoding\n",
        "encoded = pd.get_dummies(dataset)\n",
        "encoded.head()"
      ],
      "execution_count": 17,
      "outputs": [
        {
          "output_type": "execute_result",
          "data": {
            "text/html": [
              "<div>\n",
              "<style scoped>\n",
              "    .dataframe tbody tr th:only-of-type {\n",
              "        vertical-align: middle;\n",
              "    }\n",
              "\n",
              "    .dataframe tbody tr th {\n",
              "        vertical-align: top;\n",
              "    }\n",
              "\n",
              "    .dataframe thead th {\n",
              "        text-align: right;\n",
              "    }\n",
              "</style>\n",
              "<table border=\"1\" class=\"dataframe\">\n",
              "  <thead>\n",
              "    <tr style=\"text-align: right;\">\n",
              "      <th></th>\n",
              "      <th>꽃잎길이</th>\n",
              "      <th>꽃잎폭</th>\n",
              "      <th>꽃받침길이</th>\n",
              "      <th>꽃받침폭</th>\n",
              "      <th>품종_setosa</th>\n",
              "      <th>품종_versicolor</th>\n",
              "      <th>품종_virginica</th>\n",
              "    </tr>\n",
              "  </thead>\n",
              "  <tbody>\n",
              "    <tr>\n",
              "      <th>0</th>\n",
              "      <td>5.1</td>\n",
              "      <td>3.5</td>\n",
              "      <td>1.4</td>\n",
              "      <td>0.2</td>\n",
              "      <td>1</td>\n",
              "      <td>0</td>\n",
              "      <td>0</td>\n",
              "    </tr>\n",
              "    <tr>\n",
              "      <th>1</th>\n",
              "      <td>4.9</td>\n",
              "      <td>3.0</td>\n",
              "      <td>1.4</td>\n",
              "      <td>0.2</td>\n",
              "      <td>1</td>\n",
              "      <td>0</td>\n",
              "      <td>0</td>\n",
              "    </tr>\n",
              "    <tr>\n",
              "      <th>2</th>\n",
              "      <td>4.7</td>\n",
              "      <td>3.2</td>\n",
              "      <td>1.3</td>\n",
              "      <td>0.2</td>\n",
              "      <td>1</td>\n",
              "      <td>0</td>\n",
              "      <td>0</td>\n",
              "    </tr>\n",
              "    <tr>\n",
              "      <th>3</th>\n",
              "      <td>4.6</td>\n",
              "      <td>3.1</td>\n",
              "      <td>1.5</td>\n",
              "      <td>0.2</td>\n",
              "      <td>1</td>\n",
              "      <td>0</td>\n",
              "      <td>0</td>\n",
              "    </tr>\n",
              "    <tr>\n",
              "      <th>4</th>\n",
              "      <td>5.0</td>\n",
              "      <td>3.6</td>\n",
              "      <td>1.4</td>\n",
              "      <td>0.2</td>\n",
              "      <td>1</td>\n",
              "      <td>0</td>\n",
              "      <td>0</td>\n",
              "    </tr>\n",
              "  </tbody>\n",
              "</table>\n",
              "</div>"
            ],
            "text/plain": [
              "   꽃잎길이  꽃잎폭  꽃받침길이  꽃받침폭  품종_setosa  품종_versicolor  품종_virginica\n",
              "0   5.1  3.5    1.4   0.2          1              0             0\n",
              "1   4.9  3.0    1.4   0.2          1              0             0\n",
              "2   4.7  3.2    1.3   0.2          1              0             0\n",
              "3   4.6  3.1    1.5   0.2          1              0             0\n",
              "4   5.0  3.6    1.4   0.2          1              0             0"
            ]
          },
          "metadata": {
            "tags": []
          },
          "execution_count": 17
        }
      ]
    },
    {
      "cell_type": "code",
      "metadata": {
        "id": "s1VV_NSFSKbG",
        "outputId": "3dbeec51-e455-4074-bcc0-b2fc287669a4",
        "colab": {
          "base_uri": "https://localhost:8080/",
          "height": 73
        }
      },
      "source": [
        "print(encoded.columns)"
      ],
      "execution_count": 18,
      "outputs": [
        {
          "output_type": "stream",
          "text": [
            "Index(['꽃잎길이', '꽃잎폭', '꽃받침길이', '꽃받침폭', '품종_setosa', '품종_versicolor',\n",
            "       '품종_virginica'],\n",
            "      dtype='object')\n"
          ],
          "name": "stdout"
        }
      ]
    },
    {
      "cell_type": "code",
      "metadata": {
        "id": "5cdxy4-gSPAB",
        "outputId": "933d2388-1138-4720-d2d6-4abdc9d72ac8",
        "colab": {
          "base_uri": "https://localhost:8080/",
          "height": 36
        }
      },
      "source": [
        "독립 = encoded[['꽃잎길이', '꽃잎폭', '꽃받침길이', '꽃받침폭']]\n",
        "종속 = encoded[['품종_setosa', '품종_versicolor','품종_virginica']]\n",
        "print(독립.shape, 종속.shape)"
      ],
      "execution_count": 19,
      "outputs": [
        {
          "output_type": "stream",
          "text": [
            "(150, 4) (150, 3)\n"
          ],
          "name": "stdout"
        }
      ]
    },
    {
      "cell_type": "code",
      "metadata": {
        "id": "42HNSADRSa6J"
      },
      "source": [
        "X = tf.keras.layers.Input(shape=[4]) #독립 shape에서 col\n",
        "Y = tf.keras.layers.Dense(3, activation='softmax')(X) #종속 shape에서 col\n",
        "model = tf.keras.models.Model(X, Y)\n",
        "model.compile(loss='categorical_crossentropy', metrics='accuracy') "
      ],
      "execution_count": 21,
      "outputs": []
    },
    {
      "cell_type": "code",
      "metadata": {
        "id": "KNmOwljaSxKf",
        "outputId": "514238fd-57f1-4787-c644-8093e240a186",
        "colab": {
          "base_uri": "https://localhost:8080/",
          "height": 36
        }
      },
      "source": [
        "model.fit(독립, 종속, epochs=10000, verbose=0)"
      ],
      "execution_count": 22,
      "outputs": [
        {
          "output_type": "execute_result",
          "data": {
            "text/plain": [
              "<tensorflow.python.keras.callbacks.History at 0x7f95c3385ac8>"
            ]
          },
          "metadata": {
            "tags": []
          },
          "execution_count": 22
        }
      ]
    },
    {
      "cell_type": "code",
      "metadata": {
        "id": "CM-THyubS7r6",
        "outputId": "0a73e961-9d4e-4a4e-862d-3903004a406c",
        "colab": {
          "base_uri": "https://localhost:8080/",
          "height": 198
        }
      },
      "source": [
        "독립.head()"
      ],
      "execution_count": 23,
      "outputs": [
        {
          "output_type": "execute_result",
          "data": {
            "text/html": [
              "<div>\n",
              "<style scoped>\n",
              "    .dataframe tbody tr th:only-of-type {\n",
              "        vertical-align: middle;\n",
              "    }\n",
              "\n",
              "    .dataframe tbody tr th {\n",
              "        vertical-align: top;\n",
              "    }\n",
              "\n",
              "    .dataframe thead th {\n",
              "        text-align: right;\n",
              "    }\n",
              "</style>\n",
              "<table border=\"1\" class=\"dataframe\">\n",
              "  <thead>\n",
              "    <tr style=\"text-align: right;\">\n",
              "      <th></th>\n",
              "      <th>꽃잎길이</th>\n",
              "      <th>꽃잎폭</th>\n",
              "      <th>꽃받침길이</th>\n",
              "      <th>꽃받침폭</th>\n",
              "    </tr>\n",
              "  </thead>\n",
              "  <tbody>\n",
              "    <tr>\n",
              "      <th>0</th>\n",
              "      <td>5.1</td>\n",
              "      <td>3.5</td>\n",
              "      <td>1.4</td>\n",
              "      <td>0.2</td>\n",
              "    </tr>\n",
              "    <tr>\n",
              "      <th>1</th>\n",
              "      <td>4.9</td>\n",
              "      <td>3.0</td>\n",
              "      <td>1.4</td>\n",
              "      <td>0.2</td>\n",
              "    </tr>\n",
              "    <tr>\n",
              "      <th>2</th>\n",
              "      <td>4.7</td>\n",
              "      <td>3.2</td>\n",
              "      <td>1.3</td>\n",
              "      <td>0.2</td>\n",
              "    </tr>\n",
              "    <tr>\n",
              "      <th>3</th>\n",
              "      <td>4.6</td>\n",
              "      <td>3.1</td>\n",
              "      <td>1.5</td>\n",
              "      <td>0.2</td>\n",
              "    </tr>\n",
              "    <tr>\n",
              "      <th>4</th>\n",
              "      <td>5.0</td>\n",
              "      <td>3.6</td>\n",
              "      <td>1.4</td>\n",
              "      <td>0.2</td>\n",
              "    </tr>\n",
              "  </tbody>\n",
              "</table>\n",
              "</div>"
            ],
            "text/plain": [
              "   꽃잎길이  꽃잎폭  꽃받침길이  꽃받침폭\n",
              "0   5.1  3.5    1.4   0.2\n",
              "1   4.9  3.0    1.4   0.2\n",
              "2   4.7  3.2    1.3   0.2\n",
              "3   4.6  3.1    1.5   0.2\n",
              "4   5.0  3.6    1.4   0.2"
            ]
          },
          "metadata": {
            "tags": []
          },
          "execution_count": 23
        }
      ]
    },
    {
      "cell_type": "code",
      "metadata": {
        "id": "pkatsLgdTDTp",
        "outputId": "2bc37d03-8013-45f1-d2d8-0d58aa6f2f31",
        "colab": {
          "base_uri": "https://localhost:8080/",
          "height": 1000
        }
      },
      "source": [
        "model.predict(독립)"
      ],
      "execution_count": 25,
      "outputs": [
        {
          "output_type": "execute_result",
          "data": {
            "text/plain": [
              "array([[1.00000000e+00, 3.98572494e-11, 2.74017462e-24],\n",
              "       [1.00000000e+00, 3.38512907e-09, 3.04989004e-21],\n",
              "       [1.00000000e+00, 3.72753439e-10, 1.57431999e-22],\n",
              "       [1.00000000e+00, 1.04386526e-08, 2.38835073e-20],\n",
              "       [1.00000000e+00, 2.34493328e-11, 1.42038054e-24],\n",
              "       [1.00000000e+00, 2.82254886e-10, 4.62591096e-23],\n",
              "       [1.00000000e+00, 1.06011921e-09, 1.07404011e-21],\n",
              "       [1.00000000e+00, 3.55085295e-10, 7.98627382e-23],\n",
              "       [1.00000000e+00, 2.66749520e-08, 1.43850379e-19],\n",
              "       [1.00000000e+00, 1.43632051e-09, 5.81243014e-22],\n",
              "       [1.00000000e+00, 1.20787894e-11, 2.67050666e-25],\n",
              "       [1.00000000e+00, 1.86113847e-09, 1.20651663e-21],\n",
              "       [1.00000000e+00, 1.29504341e-09, 6.25238178e-22],\n",
              "       [1.00000000e+00, 1.49700141e-10, 6.36213859e-23],\n",
              "       [1.00000000e+00, 1.32288420e-14, 6.33173092e-30],\n",
              "       [1.00000000e+00, 2.60469245e-13, 9.00408842e-28],\n",
              "       [1.00000000e+00, 2.89104634e-12, 6.30143077e-26],\n",
              "       [1.00000000e+00, 1.34531955e-10, 2.27716044e-23],\n",
              "       [1.00000000e+00, 8.52424104e-11, 3.70008818e-24],\n",
              "       [1.00000000e+00, 3.99956214e-11, 3.33873664e-24],\n",
              "       [1.00000000e+00, 1.26189881e-09, 2.56875350e-22],\n",
              "       [1.00000000e+00, 2.96299735e-10, 9.11897647e-23],\n",
              "       [1.00000000e+00, 6.67797198e-13, 1.62984610e-26],\n",
              "       [9.99999762e-01, 2.29326616e-07, 2.39576197e-18],\n",
              "       [1.00000000e+00, 5.78051917e-08, 1.70157980e-19],\n",
              "       [1.00000000e+00, 2.59026223e-08, 4.85052863e-20],\n",
              "       [1.00000000e+00, 1.27163418e-08, 2.87086279e-20],\n",
              "       [1.00000000e+00, 9.70240138e-11, 8.37228571e-24],\n",
              "       [1.00000000e+00, 6.77463363e-11, 5.28634034e-24],\n",
              "       [1.00000000e+00, 1.15774332e-08, 2.22030188e-20],\n",
              "       [1.00000000e+00, 1.96784082e-08, 4.28340229e-20],\n",
              "       [1.00000000e+00, 1.45500700e-09, 6.54746726e-22],\n",
              "       [1.00000000e+00, 2.57124563e-13, 7.99332523e-28],\n",
              "       [1.00000000e+00, 5.84230743e-14, 7.85281324e-29],\n",
              "       [1.00000000e+00, 1.43632051e-09, 5.81243014e-22],\n",
              "       [1.00000000e+00, 5.50746497e-11, 6.11688899e-24],\n",
              "       [1.00000000e+00, 4.56048524e-12, 6.24941217e-26],\n",
              "       [1.00000000e+00, 1.43632051e-09, 5.81243014e-22],\n",
              "       [1.00000000e+00, 3.86638144e-09, 8.40856154e-21],\n",
              "       [1.00000000e+00, 2.74983286e-10, 4.68780151e-23],\n",
              "       [1.00000000e+00, 5.52654311e-11, 7.45297245e-24],\n",
              "       [9.99997497e-01, 2.47981347e-06, 1.69908086e-16],\n",
              "       [1.00000000e+00, 8.02598377e-10, 7.78427242e-22],\n",
              "       [9.99999881e-01, 6.60074093e-08, 6.03239349e-19],\n",
              "       [1.00000000e+00, 1.31799718e-08, 2.03682628e-20],\n",
              "       [1.00000000e+00, 1.47542538e-08, 4.31791963e-20],\n",
              "       [1.00000000e+00, 3.72471116e-11, 2.09125764e-24],\n",
              "       [1.00000000e+00, 1.51301993e-09, 1.39607509e-21],\n",
              "       [1.00000000e+00, 1.55972232e-11, 4.54953488e-25],\n",
              "       [1.00000000e+00, 2.47936754e-10, 5.04262831e-23],\n",
              "       [5.37581177e-12, 9.98999536e-01, 1.00051495e-03],\n",
              "       [3.38179853e-12, 9.95280325e-01, 4.71970439e-03],\n",
              "       [5.61792366e-14, 9.86818075e-01, 1.31818829e-02],\n",
              "       [9.78651838e-13, 9.72003520e-01, 2.79964954e-02],\n",
              "       [5.83998182e-14, 9.70943272e-01, 2.90567428e-02],\n",
              "       [2.71219489e-13, 9.73362803e-01, 2.66372282e-02],\n",
              "       [1.68418163e-13, 9.72566843e-01, 2.74331030e-02],\n",
              "       [5.55716966e-08, 9.99800980e-01, 1.99024609e-04],\n",
              "       [1.93730058e-12, 9.97507274e-01, 2.49273609e-03],\n",
              "       [9.91210586e-12, 9.80816066e-01, 1.91839449e-02],\n",
              "       [3.12359416e-10, 9.97923970e-01, 2.07595108e-03],\n",
              "       [6.04522769e-12, 9.90726590e-01, 9.27337818e-03],\n",
              "       [6.32877362e-11, 9.99277532e-01, 7.22482393e-04],\n",
              "       [4.89893973e-14, 9.60869491e-01, 3.91304307e-02],\n",
              "       [1.41866732e-08, 9.99742568e-01, 2.57463864e-04],\n",
              "       [3.53392281e-11, 9.99242187e-01, 7.57876027e-04],\n",
              "       [8.31279490e-14, 9.11076069e-01, 8.89239684e-02],\n",
              "       [6.15297147e-10, 9.99723256e-01, 2.76710576e-04],\n",
              "       [5.35086171e-16, 6.81249499e-01, 3.18750471e-01],\n",
              "       [2.24078811e-10, 9.99030948e-01, 9.69018613e-04],\n",
              "       [3.46849695e-16, 4.37728554e-01, 5.62271416e-01],\n",
              "       [2.37581732e-10, 9.99275148e-01, 7.24910060e-04],\n",
              "       [6.12206231e-17, 5.57354450e-01, 4.42645550e-01],\n",
              "       [2.62013393e-13, 9.90040123e-01, 9.95992497e-03],\n",
              "       [3.61410971e-11, 9.99042928e-01, 9.57006589e-04],\n",
              "       [1.24596930e-11, 9.98503923e-01, 1.49614760e-03],\n",
              "       [4.36069807e-14, 9.85693455e-01, 1.43065173e-02],\n",
              "       [3.21874029e-16, 7.41024673e-01, 2.58975357e-01],\n",
              "       [1.10262948e-13, 9.53979492e-01, 4.60204817e-02],\n",
              "       [2.09479452e-07, 9.99973297e-01, 2.65200379e-05],\n",
              "       [2.48478182e-10, 9.98844147e-01, 1.15585793e-03],\n",
              "       [2.63864641e-09, 9.99716222e-01, 2.83754547e-04],\n",
              "       [5.33454281e-10, 9.99388456e-01, 6.11490686e-04],\n",
              "       [1.13518369e-18, 1.54055938e-01, 8.45944047e-01],\n",
              "       [4.67732678e-14, 8.54782403e-01, 1.45217627e-01],\n",
              "       [1.71709120e-12, 9.84469891e-01, 1.55301122e-02],\n",
              "       [3.34514968e-13, 9.91592050e-01, 8.40788707e-03],\n",
              "       [7.78837986e-14, 9.76949513e-01, 2.30505392e-02],\n",
              "       [1.01270645e-10, 9.97863233e-01, 2.13681604e-03],\n",
              "       [4.78878525e-12, 9.87317741e-01, 1.26822833e-02],\n",
              "       [3.58647682e-13, 9.74470794e-01, 2.55292170e-02],\n",
              "       [3.46071750e-13, 9.83842015e-01, 1.61579270e-02],\n",
              "       [7.72509556e-11, 9.98485148e-01, 1.51491340e-03],\n",
              "       [3.26935314e-08, 9.99774158e-01, 2.25887969e-04],\n",
              "       [3.01763605e-12, 9.88233685e-01, 1.17663322e-02],\n",
              "       [1.40566961e-10, 9.98909473e-01, 1.09048141e-03],\n",
              "       [1.89188856e-11, 9.95991409e-01, 4.00859490e-03],\n",
              "       [2.16592907e-11, 9.98335421e-01, 1.66459219e-03],\n",
              "       [1.87173862e-06, 9.99956727e-01, 4.14091010e-05],\n",
              "       [2.71053353e-11, 9.96373713e-01, 3.62630002e-03],\n",
              "       [1.57710973e-29, 1.51495206e-05, 9.99984860e-01],\n",
              "       [8.00020270e-22, 6.96163950e-03, 9.93038356e-01],\n",
              "       [7.80588565e-25, 2.51364103e-03, 9.97486353e-01],\n",
              "       [2.68266199e-22, 1.22718243e-02, 9.87728119e-01],\n",
              "       [2.00423101e-26, 3.21293162e-04, 9.99678731e-01],\n",
              "       [1.08439293e-28, 2.94927886e-04, 9.99705017e-01],\n",
              "       [8.20974793e-19, 3.12580429e-02, 9.68741953e-01],\n",
              "       [5.37135390e-25, 5.78031456e-03, 9.94219661e-01],\n",
              "       [7.21703451e-25, 2.72276369e-03, 9.97277200e-01],\n",
              "       [1.29987021e-26, 3.71871138e-04, 9.99628067e-01],\n",
              "       [1.34746988e-18, 1.29794359e-01, 8.70205581e-01],\n",
              "       [7.17280449e-22, 1.33027602e-02, 9.86697257e-01],\n",
              "       [1.15234150e-22, 8.18372145e-03, 9.91816342e-01],\n",
              "       [2.73772631e-23, 1.59130478e-03, 9.98408735e-01],\n",
              "       [6.67976538e-26, 1.16025512e-04, 9.99884009e-01],\n",
              "       [5.82912105e-23, 2.75490782e-03, 9.97245073e-01],\n",
              "       [1.27991781e-20, 5.08950800e-02, 9.49104965e-01],\n",
              "       [5.80222973e-26, 2.40760949e-03, 9.97592390e-01],\n",
              "       [1.62605296e-34, 2.81240591e-06, 9.99997139e-01],\n",
              "       [1.37777852e-19, 8.97624567e-02, 9.10237551e-01],\n",
              "       [1.14099569e-24, 1.46637741e-03, 9.98533607e-01],\n",
              "       [2.95453345e-21, 6.67225849e-03, 9.93327737e-01],\n",
              "       [2.73056121e-29, 2.58012820e-04, 9.99741971e-01],\n",
              "       [2.18904064e-18, 1.59085318e-01, 8.40914667e-01],\n",
              "       [8.86820643e-23, 7.59996939e-03, 9.92400050e-01],\n",
              "       [1.48784195e-21, 6.29578158e-02, 9.37042236e-01],\n",
              "       [1.92838102e-17, 2.62299806e-01, 7.37700284e-01],\n",
              "       [2.33286274e-17, 2.67366588e-01, 7.32633352e-01],\n",
              "       [2.45126570e-25, 7.32930319e-04, 9.99267042e-01],\n",
              "       [1.83600505e-19, 3.32467228e-01, 6.67532802e-01],\n",
              "       [9.07865996e-25, 5.67269418e-03, 9.94327366e-01],\n",
              "       [1.47374636e-21, 1.03642613e-01, 8.96357358e-01],\n",
              "       [2.95096502e-26, 2.97819846e-04, 9.99702156e-01],\n",
              "       [7.12972116e-17, 6.06580138e-01, 3.93419832e-01],\n",
              "       [1.16605026e-20, 7.24527165e-02, 9.27547336e-01],\n",
              "       [1.02167425e-26, 7.98854395e-04, 9.99201119e-01],\n",
              "       [3.16092941e-25, 4.19798947e-04, 9.99580204e-01],\n",
              "       [2.45235513e-20, 5.73719293e-02, 9.42628026e-01],\n",
              "       [6.67258476e-17, 3.14152539e-01, 6.85847402e-01],\n",
              "       [3.29720978e-21, 2.62840129e-02, 9.73715961e-01],\n",
              "       [7.50030090e-26, 3.78804893e-04, 9.99621153e-01],\n",
              "       [6.77815947e-21, 1.98198035e-02, 9.80180264e-01],\n",
              "       [8.00020270e-22, 6.96163950e-03, 9.93038356e-01],\n",
              "       [2.47450628e-26, 4.05760977e-04, 9.99594271e-01],\n",
              "       [1.87327687e-26, 2.08374448e-04, 9.99791682e-01],\n",
              "       [1.38623422e-22, 4.66309069e-03, 9.95336950e-01],\n",
              "       [5.45822559e-21, 2.02743448e-02, 9.79725659e-01],\n",
              "       [2.64761741e-20, 3.86182070e-02, 9.61381793e-01],\n",
              "       [4.17042267e-23, 2.14449270e-03, 9.97855484e-01],\n",
              "       [3.76164649e-19, 7.10292608e-02, 9.28970754e-01]], dtype=float32)"
            ]
          },
          "metadata": {
            "tags": []
          },
          "execution_count": 25
        }
      ]
    },
    {
      "cell_type": "code",
      "metadata": {
        "id": "LccEA1Q6TGiI"
      },
      "source": [
        ""
      ],
      "execution_count": null,
      "outputs": []
    }
  ]
}