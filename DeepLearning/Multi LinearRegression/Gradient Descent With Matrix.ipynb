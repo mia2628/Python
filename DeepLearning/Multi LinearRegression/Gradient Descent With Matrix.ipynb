{
 "cells": [
  {
   "cell_type": "code",
   "execution_count": 3,
   "metadata": {},
   "outputs": [
    {
     "name": "stdout",
     "output_type": "stream",
     "text": [
      "    0 |   15645.9512\n",
      "   50 |    8894.0146\n",
      "  100 |    5951.3447\n",
      "  150 |    4501.9058\n",
      "  200 |    3786.9263\n",
      "  250 |    3434.2173\n",
      "  300 |    3260.2043\n",
      "  350 |    3174.3364\n",
      "  400 |    3131.9492\n",
      "  450 |    3111.0110\n",
      "  500 |    3100.6538\n",
      "  550 |    3095.5171\n",
      "  600 |    3092.9575\n",
      "  650 |    3091.6685\n",
      "  700 |    3091.0093\n",
      "  750 |    3090.6614\n",
      "  800 |    3090.4673\n",
      "  850 |    3090.3511\n",
      "  900 |    3090.2729\n",
      "  950 |    3090.2161\n",
      " 1000 |    3090.1692\n"
     ]
    }
   ],
   "source": [
    "import tensorflow as tf\n",
    "\n",
    "x1 = [73., 93., 89., 96., 73.]\n",
    "x2 = [234., 123., 12., 53., 64.]\n",
    "x3 = [87., 58., 98., 67., 86.]\n",
    "Y = [46., 74., 234., 64., 23.]\n",
    "\n",
    "w1 = tf.Variable(tf.random.normal([1]))\n",
    "w2 = tf.Variable(tf.random.normal([1]))\n",
    "w3 = tf.Variable(tf.random.normal([1]))\n",
    "b = tf.Variable(tf.random.normal([1]))\n",
    "\n",
    "learning_rate = 0.000001\n",
    "\n",
    "for i in range(1000+1):\n",
    "    with tf.GradientTape() as tape:\n",
    "        hypothesis = w1 * x1 + w2 * x2 + w3 * x3 + b\n",
    "        cost = tf.reduce_mean(tf.square(hypothesis - Y))\n",
    "    w1_grad, w2_grad, w3_grad, b_grad = tape.gradient(cost, [w1, w2, w3, b])\n",
    "    \n",
    "    w1.assign_sub(learning_rate * w1_grad)\n",
    "    w2.assign_sub(learning_rate * w2_grad)\n",
    "    w3.assign_sub(learning_rate * w3_grad)\n",
    "    b.assign_sub(learning_rate * b_grad)\n",
    "    \n",
    "    if i % 50 == 0:\n",
    "        print(\"{:5} | {:12.4f}\".format(i, cost.numpy()))"
   ]
  },
  {
   "cell_type": "code",
   "execution_count": 7,
   "metadata": {},
   "outputs": [
    {
     "name": "stdout",
     "output_type": "stream",
     "text": [
      "    0 | 155872.2031\n",
      "  100 | 26001.2246\n",
      "  200 | 12844.8594\n",
      "  300 |  9877.8926\n",
      "  400 |  8578.2832\n",
      "  500 |  7899.2373\n",
      "  600 |  7534.1460\n",
      "  700 |  7336.6235\n",
      "  800 |  7229.2500\n",
      "  900 |  7170.4546\n",
      " 1000 |  7137.8774\n",
      " 1100 |  7119.4805\n",
      " 1200 |  7108.7783\n",
      " 1300 |  7102.2759\n",
      " 1400 |  7098.0908\n",
      " 1500 |  7095.2080\n",
      " 1600 |  7093.0640\n",
      " 1700 |  7091.3721\n",
      " 1800 |  7089.9619\n",
      " 1900 |  7088.7383\n",
      " 2000 |  7087.6538\n"
     ]
    }
   ],
   "source": [
    "#matrix\n",
    "import numpy as np\n",
    "data = np.array([\n",
    "    [63., 25., 62., 150.],\n",
    "    [24., 35., 73., 152.],\n",
    "    [26., 12., 83., 173.],\n",
    "    [35., 74., 12., 265.],\n",
    "    [61., 83., 24., 567.]\n",
    "], dtype=np.float32)\n",
    "\n",
    "X = data[:, :-1]\n",
    "y = data[:, [-1]]\n",
    "\n",
    "W = tf.Variable(tf.random.normal([3, 1]))\n",
    "b = tf.Variable(tf.random.normal([1]))\n",
    "\n",
    "learning_rate = 0.000001\n",
    "\n",
    "#hypothesis, prediction function\n",
    "def predict(X):\n",
    "    return tf.matmul(X, W) + b\n",
    "\n",
    "n_epochs = 2000\n",
    "for i in range(n_epochs+1):\n",
    "    with tf. GradientTape() as tape:\n",
    "        cost = tf.reduce_mean((tf.square(predict(X) - y)))\n",
    "        \n",
    "    W_grad, b_grad = tape.gradient(cost, [W, b])\n",
    "    \n",
    "    W.assign_sub(learning_rate * W_grad)\n",
    "    b.assign_sub(learning_rate * b_grad)\n",
    "    \n",
    "    if i % 100 == 0:\n",
    "        print(\"{:5} | {:10.4f}\".format(i, cost.numpy()))"
   ]
  },
  {
   "cell_type": "code",
   "execution_count": null,
   "metadata": {},
   "outputs": [],
   "source": []
  }
 ],
 "metadata": {
  "kernelspec": {
   "display_name": "Python 3",
   "language": "python",
   "name": "python3"
  },
  "language_info": {
   "codemirror_mode": {
    "name": "ipython",
    "version": 3
   },
   "file_extension": ".py",
   "mimetype": "text/x-python",
   "name": "python",
   "nbconvert_exporter": "python",
   "pygments_lexer": "ipython3",
   "version": "3.8.3"
  }
 },
 "nbformat": 4,
 "nbformat_minor": 4
}
