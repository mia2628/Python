{
 "cells": [
  {
   "cell_type": "code",
   "execution_count": 62,
   "metadata": {},
   "outputs": [],
   "source": [
    "import numpy as np\n",
    "import pandas as pd\n",
    "import matplotlib.pyplot as plt\n",
    "from sklearn.decomposition import PCA\n",
    "from sklearn.preprocessing import MinMaxScaler\n",
    "\n",
    "from pandas.plotting import register_matplotlib_converters\n",
    "register_matplotlib_converters()"
   ]
  },
  {
   "cell_type": "code",
   "execution_count": 63,
   "metadata": {},
   "outputs": [],
   "source": [
    "df = pd.read_csv('train_1.csv', parse_dates=['datetime'])\n",
    "df_test = pd.read_csv('test.csv', parse_dates=['datetime'])"
   ]
  },
  {
   "cell_type": "code",
   "execution_count": 64,
   "metadata": {},
   "outputs": [
    {
     "data": {
      "text/plain": [
       "Index(['datetime', 'season', 'holiday', 'workingday', 'weather', 'temp',\n",
       "       'atemp', 'humidity', 'windspeed', 'casual', 'registered', 'count'],\n",
       "      dtype='object')"
      ]
     },
     "execution_count": 64,
     "metadata": {},
     "output_type": "execute_result"
    }
   ],
   "source": [
    "df.columns"
   ]
  },
  {
   "cell_type": "code",
   "execution_count": 65,
   "metadata": {},
   "outputs": [
    {
     "name": "stdout",
     "output_type": "stream",
     "text": [
      "<class 'pandas.core.frame.DataFrame'>\n",
      "RangeIndex: 10886 entries, 0 to 10885\n",
      "Data columns (total 12 columns):\n",
      " #   Column      Non-Null Count  Dtype         \n",
      "---  ------      --------------  -----         \n",
      " 0   datetime    10886 non-null  datetime64[ns]\n",
      " 1   season      10886 non-null  int64         \n",
      " 2   holiday     10886 non-null  int64         \n",
      " 3   workingday  10886 non-null  int64         \n",
      " 4   weather     10886 non-null  int64         \n",
      " 5   temp        10886 non-null  float64       \n",
      " 6   atemp       10886 non-null  float64       \n",
      " 7   humidity    10886 non-null  int64         \n",
      " 8   windspeed   10886 non-null  float64       \n",
      " 9   casual      10886 non-null  int64         \n",
      " 10  registered  10886 non-null  int64         \n",
      " 11  count       10886 non-null  int64         \n",
      "dtypes: datetime64[ns](1), float64(3), int64(8)\n",
      "memory usage: 1020.7 KB\n"
     ]
    }
   ],
   "source": [
    "df.info()"
   ]
  },
  {
   "cell_type": "code",
   "execution_count": 66,
   "metadata": {},
   "outputs": [],
   "source": [
    "columns = ['count', 'season', 'holiday', 'workingday', 'weather', 'temp',\n",
    "       'atemp', 'humidity', 'windspeed', 'year', 'month', 'day', 'dayofweek','hour']\n",
    "\n",
    "cols_normalize = ['temp','atemp','humidity','windspeed']"
   ]
  },
  {
   "cell_type": "code",
   "execution_count": 67,
   "metadata": {},
   "outputs": [
    {
     "data": {
      "text/html": [
       "<div>\n",
       "<style scoped>\n",
       "    .dataframe tbody tr th:only-of-type {\n",
       "        vertical-align: middle;\n",
       "    }\n",
       "\n",
       "    .dataframe tbody tr th {\n",
       "        vertical-align: top;\n",
       "    }\n",
       "\n",
       "    .dataframe thead th {\n",
       "        text-align: right;\n",
       "    }\n",
       "</style>\n",
       "<table border=\"1\" class=\"dataframe\">\n",
       "  <thead>\n",
       "    <tr style=\"text-align: right;\">\n",
       "      <th></th>\n",
       "      <th>datetime</th>\n",
       "      <th>season</th>\n",
       "      <th>holiday</th>\n",
       "      <th>workingday</th>\n",
       "      <th>weather</th>\n",
       "      <th>temp</th>\n",
       "      <th>atemp</th>\n",
       "      <th>humidity</th>\n",
       "      <th>windspeed</th>\n",
       "      <th>casual</th>\n",
       "      <th>registered</th>\n",
       "      <th>count</th>\n",
       "    </tr>\n",
       "  </thead>\n",
       "  <tbody>\n",
       "    <tr>\n",
       "      <th>0</th>\n",
       "      <td>2011-01-01 00:00:00</td>\n",
       "      <td>1</td>\n",
       "      <td>0</td>\n",
       "      <td>0</td>\n",
       "      <td>1</td>\n",
       "      <td>9.84</td>\n",
       "      <td>14.395</td>\n",
       "      <td>81</td>\n",
       "      <td>0.0</td>\n",
       "      <td>3</td>\n",
       "      <td>13</td>\n",
       "      <td>16</td>\n",
       "    </tr>\n",
       "    <tr>\n",
       "      <th>1</th>\n",
       "      <td>2011-01-01 01:00:00</td>\n",
       "      <td>1</td>\n",
       "      <td>0</td>\n",
       "      <td>0</td>\n",
       "      <td>1</td>\n",
       "      <td>9.02</td>\n",
       "      <td>13.635</td>\n",
       "      <td>80</td>\n",
       "      <td>0.0</td>\n",
       "      <td>8</td>\n",
       "      <td>32</td>\n",
       "      <td>40</td>\n",
       "    </tr>\n",
       "    <tr>\n",
       "      <th>2</th>\n",
       "      <td>2011-01-01 02:00:00</td>\n",
       "      <td>1</td>\n",
       "      <td>0</td>\n",
       "      <td>0</td>\n",
       "      <td>1</td>\n",
       "      <td>9.02</td>\n",
       "      <td>13.635</td>\n",
       "      <td>80</td>\n",
       "      <td>0.0</td>\n",
       "      <td>5</td>\n",
       "      <td>27</td>\n",
       "      <td>32</td>\n",
       "    </tr>\n",
       "    <tr>\n",
       "      <th>3</th>\n",
       "      <td>2011-01-01 03:00:00</td>\n",
       "      <td>1</td>\n",
       "      <td>0</td>\n",
       "      <td>0</td>\n",
       "      <td>1</td>\n",
       "      <td>9.84</td>\n",
       "      <td>14.395</td>\n",
       "      <td>75</td>\n",
       "      <td>0.0</td>\n",
       "      <td>3</td>\n",
       "      <td>10</td>\n",
       "      <td>13</td>\n",
       "    </tr>\n",
       "    <tr>\n",
       "      <th>4</th>\n",
       "      <td>2011-01-01 04:00:00</td>\n",
       "      <td>1</td>\n",
       "      <td>0</td>\n",
       "      <td>0</td>\n",
       "      <td>1</td>\n",
       "      <td>9.84</td>\n",
       "      <td>14.395</td>\n",
       "      <td>75</td>\n",
       "      <td>0.0</td>\n",
       "      <td>0</td>\n",
       "      <td>1</td>\n",
       "      <td>1</td>\n",
       "    </tr>\n",
       "  </tbody>\n",
       "</table>\n",
       "</div>"
      ],
      "text/plain": [
       "             datetime  season  holiday  workingday  weather  temp   atemp  \\\n",
       "0 2011-01-01 00:00:00       1        0           0        1  9.84  14.395   \n",
       "1 2011-01-01 01:00:00       1        0           0        1  9.02  13.635   \n",
       "2 2011-01-01 02:00:00       1        0           0        1  9.02  13.635   \n",
       "3 2011-01-01 03:00:00       1        0           0        1  9.84  14.395   \n",
       "4 2011-01-01 04:00:00       1        0           0        1  9.84  14.395   \n",
       "\n",
       "   humidity  windspeed  casual  registered  count  \n",
       "0        81        0.0       3          13     16  \n",
       "1        80        0.0       8          32     40  \n",
       "2        80        0.0       5          27     32  \n",
       "3        75        0.0       3          10     13  \n",
       "4        75        0.0       0           1      1  "
      ]
     },
     "execution_count": 67,
     "metadata": {},
     "output_type": "execute_result"
    }
   ],
   "source": [
    "df.head()"
   ]
  },
  {
   "cell_type": "code",
   "execution_count": 68,
   "metadata": {},
   "outputs": [],
   "source": [
    "def add_features(df):\n",
    "    df['year'] = df['datetime'].dt.year\n",
    "    df['month'] = df['datetime'].dt.month\n",
    "    df['day'] = df['datetime'].dt.day\n",
    "    df['dayofweek'] = df['datetime'].dt.dayofweek\n",
    "    df['hour'] = df['datetime'].dt.hour"
   ]
  },
  {
   "cell_type": "code",
   "execution_count": 69,
   "metadata": {},
   "outputs": [],
   "source": [
    "add_features(df)\n",
    "add_features(df_test)"
   ]
  },
  {
   "cell_type": "code",
   "execution_count": 70,
   "metadata": {},
   "outputs": [
    {
     "data": {
      "text/plain": [
       "0        2.833213\n",
       "1        3.713572\n",
       "2        3.496508\n",
       "3        2.639057\n",
       "4        0.693147\n",
       "           ...   \n",
       "10881    5.820083\n",
       "10882    5.488938\n",
       "10883    5.129899\n",
       "10884    4.867534\n",
       "10885    4.488636\n",
       "Name: count, Length: 10886, dtype: float64"
      ]
     },
     "execution_count": 70,
     "metadata": {},
     "output_type": "execute_result"
    }
   ],
   "source": [
    "#target 변수에 log(x+1)취함\n",
    "df['count'] = df['count'].map(np.log1p)\n",
    "df['count']"
   ]
  },
  {
   "cell_type": "code",
   "execution_count": 71,
   "metadata": {},
   "outputs": [],
   "source": [
    "#noramalize the dataset\n",
    "transformer = MinMaxScaler()"
   ]
  },
  {
   "cell_type": "code",
   "execution_count": 72,
   "metadata": {},
   "outputs": [
    {
     "data": {
      "text/plain": [
       "MinMaxScaler()"
      ]
     },
     "execution_count": 72,
     "metadata": {},
     "output_type": "execute_result"
    }
   ],
   "source": [
    "transformer.fit(df[cols_normalize])"
   ]
  },
  {
   "cell_type": "code",
   "execution_count": 73,
   "metadata": {},
   "outputs": [],
   "source": [
    "def transform_data(scaler, df, columns):\n",
    "    transformed_data = scaler.transform(df[columns])\n",
    "    df_transformed = pd.DataFrame(transformed_data, columns=columns)\n",
    "    \n",
    "    for col in df_transformed.columns:\n",
    "        df[col] = df_transformed[col]"
   ]
  },
  {
   "cell_type": "code",
   "execution_count": 74,
   "metadata": {},
   "outputs": [],
   "source": [
    "columns = ['count', 'season', 'holiday', 'workingday', 'weather','year', 'month', 'day', 'dayofweek','hour']\n",
    "\n",
    "# PCA Training\n",
    "columns_for_pca = ['temp','atemp','humidity','windspeed']"
   ]
  },
  {
   "cell_type": "code",
   "execution_count": 75,
   "metadata": {},
   "outputs": [
    {
     "data": {
      "text/plain": [
       "PCA(n_components=0.9)"
      ]
     },
     "execution_count": 75,
     "metadata": {},
     "output_type": "execute_result"
    }
   ],
   "source": [
    "pca = PCA(n_components=0.9)\n",
    "pca"
   ]
  },
  {
   "cell_type": "code",
   "execution_count": 76,
   "metadata": {},
   "outputs": [
    {
     "data": {
      "text/plain": [
       "PCA(n_components=0.9)"
      ]
     },
     "execution_count": 76,
     "metadata": {},
     "output_type": "execute_result"
    }
   ],
   "source": [
    "pca.fit(df[columns_for_pca])"
   ]
  },
  {
   "cell_type": "code",
   "execution_count": 77,
   "metadata": {},
   "outputs": [
    {
     "name": "stdout",
     "output_type": "stream",
     "text": [
      "Variance:  0.9\n",
      "No. of components to keep:  3\n"
     ]
    }
   ],
   "source": [
    "print ('Variance: ', pca.n_components)\n",
    "print ('No. of components to keep: ', pca.n_components_)"
   ]
  },
  {
   "cell_type": "code",
   "execution_count": 78,
   "metadata": {},
   "outputs": [],
   "source": [
    "def transform_with_pca(pca, df, columns):\n",
    "    transformed_data = pca.transform(df[columns])\n",
    "    \n",
    "    tcols = []\n",
    "    for i in range(pca.n_components_):\n",
    "        tcols.append('component_' + str(i))\n",
    "        \n",
    "    print('component:', tcols)\n",
    "    df_transformed = pd.DataFrame(transformed_data, columns=tcols)\n",
    "    \n",
    "    for col in df_transformed.columns:\n",
    "        df[col] = df_transformed[col]\n",
    "    \n",
    "    df.drop(columns, inplace=True, axis=1)\n",
    "    \n",
    "    return tcols"
   ]
  },
  {
   "cell_type": "code",
   "execution_count": 79,
   "metadata": {},
   "outputs": [
    {
     "name": "stdout",
     "output_type": "stream",
     "text": [
      "component: ['component_0', 'component_1', 'component_2']\n"
     ]
    }
   ],
   "source": [
    "new_cols = transform_with_pca(pca, df, columns_for_pca)"
   ]
  },
  {
   "cell_type": "code",
   "execution_count": 80,
   "metadata": {},
   "outputs": [
    {
     "name": "stdout",
     "output_type": "stream",
     "text": [
      "component: ['component_0', 'component_1', 'component_2']\n"
     ]
    },
    {
     "data": {
      "text/plain": [
       "['component_0', 'component_1', 'component_2']"
      ]
     },
     "execution_count": 80,
     "metadata": {},
     "output_type": "execute_result"
    }
   ],
   "source": [
    "transform_with_pca(pca, df_test, columns_for_pca)"
   ]
  },
  {
   "cell_type": "code",
   "execution_count": 81,
   "metadata": {},
   "outputs": [
    {
     "data": {
      "text/html": [
       "<div>\n",
       "<style scoped>\n",
       "    .dataframe tbody tr th:only-of-type {\n",
       "        vertical-align: middle;\n",
       "    }\n",
       "\n",
       "    .dataframe tbody tr th {\n",
       "        vertical-align: top;\n",
       "    }\n",
       "\n",
       "    .dataframe thead th {\n",
       "        text-align: right;\n",
       "    }\n",
       "</style>\n",
       "<table border=\"1\" class=\"dataframe\">\n",
       "  <thead>\n",
       "    <tr style=\"text-align: right;\">\n",
       "      <th></th>\n",
       "      <th>datetime</th>\n",
       "      <th>season</th>\n",
       "      <th>holiday</th>\n",
       "      <th>workingday</th>\n",
       "      <th>weather</th>\n",
       "      <th>casual</th>\n",
       "      <th>registered</th>\n",
       "      <th>count</th>\n",
       "      <th>year</th>\n",
       "      <th>month</th>\n",
       "      <th>day</th>\n",
       "      <th>dayofweek</th>\n",
       "      <th>hour</th>\n",
       "      <th>component_0</th>\n",
       "      <th>component_1</th>\n",
       "      <th>component_2</th>\n",
       "    </tr>\n",
       "  </thead>\n",
       "  <tbody>\n",
       "    <tr>\n",
       "      <th>0</th>\n",
       "      <td>2011-01-01 00:00:00</td>\n",
       "      <td>1</td>\n",
       "      <td>0</td>\n",
       "      <td>0</td>\n",
       "      <td>1</td>\n",
       "      <td>3</td>\n",
       "      <td>13</td>\n",
       "      <td>2.833213</td>\n",
       "      <td>2011</td>\n",
       "      <td>1</td>\n",
       "      <td>1</td>\n",
       "      <td>5</td>\n",
       "      <td>0</td>\n",
       "      <td>-21.502153</td>\n",
       "      <td>12.132739</td>\n",
       "      <td>-10.598772</td>\n",
       "    </tr>\n",
       "    <tr>\n",
       "      <th>1</th>\n",
       "      <td>2011-01-01 01:00:00</td>\n",
       "      <td>1</td>\n",
       "      <td>0</td>\n",
       "      <td>0</td>\n",
       "      <td>1</td>\n",
       "      <td>8</td>\n",
       "      <td>32</td>\n",
       "      <td>3.713572</td>\n",
       "      <td>2011</td>\n",
       "      <td>1</td>\n",
       "      <td>1</td>\n",
       "      <td>5</td>\n",
       "      <td>1</td>\n",
       "      <td>-20.566211</td>\n",
       "      <td>13.274817</td>\n",
       "      <td>-10.846065</td>\n",
       "    </tr>\n",
       "    <tr>\n",
       "      <th>2</th>\n",
       "      <td>2011-01-01 02:00:00</td>\n",
       "      <td>1</td>\n",
       "      <td>0</td>\n",
       "      <td>0</td>\n",
       "      <td>1</td>\n",
       "      <td>5</td>\n",
       "      <td>27</td>\n",
       "      <td>3.496508</td>\n",
       "      <td>2011</td>\n",
       "      <td>1</td>\n",
       "      <td>1</td>\n",
       "      <td>5</td>\n",
       "      <td>2</td>\n",
       "      <td>-20.566211</td>\n",
       "      <td>13.274817</td>\n",
       "      <td>-10.846065</td>\n",
       "    </tr>\n",
       "    <tr>\n",
       "      <th>3</th>\n",
       "      <td>2011-01-01 03:00:00</td>\n",
       "      <td>1</td>\n",
       "      <td>0</td>\n",
       "      <td>0</td>\n",
       "      <td>1</td>\n",
       "      <td>3</td>\n",
       "      <td>10</td>\n",
       "      <td>2.639057</td>\n",
       "      <td>2011</td>\n",
       "      <td>1</td>\n",
       "      <td>1</td>\n",
       "      <td>5</td>\n",
       "      <td>3</td>\n",
       "      <td>-15.583428</td>\n",
       "      <td>12.325531</td>\n",
       "      <td>-11.563773</td>\n",
       "    </tr>\n",
       "    <tr>\n",
       "      <th>4</th>\n",
       "      <td>2011-01-01 04:00:00</td>\n",
       "      <td>1</td>\n",
       "      <td>0</td>\n",
       "      <td>0</td>\n",
       "      <td>1</td>\n",
       "      <td>0</td>\n",
       "      <td>1</td>\n",
       "      <td>0.693147</td>\n",
       "      <td>2011</td>\n",
       "      <td>1</td>\n",
       "      <td>1</td>\n",
       "      <td>5</td>\n",
       "      <td>4</td>\n",
       "      <td>-15.583428</td>\n",
       "      <td>12.325531</td>\n",
       "      <td>-11.563773</td>\n",
       "    </tr>\n",
       "  </tbody>\n",
       "</table>\n",
       "</div>"
      ],
      "text/plain": [
       "             datetime  season  holiday  workingday  weather  casual  \\\n",
       "0 2011-01-01 00:00:00       1        0           0        1       3   \n",
       "1 2011-01-01 01:00:00       1        0           0        1       8   \n",
       "2 2011-01-01 02:00:00       1        0           0        1       5   \n",
       "3 2011-01-01 03:00:00       1        0           0        1       3   \n",
       "4 2011-01-01 04:00:00       1        0           0        1       0   \n",
       "\n",
       "   registered     count  year  month  day  dayofweek  hour  component_0  \\\n",
       "0          13  2.833213  2011      1    1          5     0   -21.502153   \n",
       "1          32  3.713572  2011      1    1          5     1   -20.566211   \n",
       "2          27  3.496508  2011      1    1          5     2   -20.566211   \n",
       "3          10  2.639057  2011      1    1          5     3   -15.583428   \n",
       "4           1  0.693147  2011      1    1          5     4   -15.583428   \n",
       "\n",
       "   component_1  component_2  \n",
       "0    12.132739   -10.598772  \n",
       "1    13.274817   -10.846065  \n",
       "2    13.274817   -10.846065  \n",
       "3    12.325531   -11.563773  \n",
       "4    12.325531   -11.563773  "
      ]
     },
     "execution_count": 81,
     "metadata": {},
     "output_type": "execute_result"
    }
   ],
   "source": [
    "df.head()"
   ]
  },
  {
   "cell_type": "code",
   "execution_count": 82,
   "metadata": {},
   "outputs": [],
   "source": [
    "for col in new_cols:\n",
    "    columns.append(col)"
   ]
  },
  {
   "cell_type": "code",
   "execution_count": 83,
   "metadata": {},
   "outputs": [
    {
     "data": {
      "text/plain": [
       "['count',\n",
       " 'season',\n",
       " 'holiday',\n",
       " 'workingday',\n",
       " 'weather',\n",
       " 'year',\n",
       " 'month',\n",
       " 'day',\n",
       " 'dayofweek',\n",
       " 'hour',\n",
       " 'component_0',\n",
       " 'component_1',\n",
       " 'component_2']"
      ]
     },
     "execution_count": 83,
     "metadata": {},
     "output_type": "execute_result"
    }
   ],
   "source": [
    "columns"
   ]
  },
  {
   "cell_type": "code",
   "execution_count": 84,
   "metadata": {},
   "outputs": [],
   "source": [
    "np.random.seed(5)\n",
    "l = list(df.index)\n",
    "np.random.shuffle(l)\n",
    "df = df.iloc[l]\n",
    "\n",
    "rows = df.shape[0]\n",
    "train = int(.7 * rows)\n",
    "test = int(.3 * rows)"
   ]
  },
  {
   "cell_type": "code",
   "execution_count": 85,
   "metadata": {},
   "outputs": [
    {
     "data": {
      "text/plain": [
       "(10886, 7620, 3265)"
      ]
     },
     "execution_count": 85,
     "metadata": {},
     "output_type": "execute_result"
    }
   ],
   "source": [
    "rows, train, test"
   ]
  },
  {
   "cell_type": "code",
   "execution_count": 87,
   "metadata": {},
   "outputs": [],
   "source": [
    "df[:train].to_csv('bike_train_pca.csv', index=False, header=False, columns=columns)"
   ]
  },
  {
   "cell_type": "code",
   "execution_count": 88,
   "metadata": {},
   "outputs": [],
   "source": [
    "df[train:].to_csv('bike_validation_pca.csv', index=False, header=False, columns=columns)"
   ]
  },
  {
   "cell_type": "code",
   "execution_count": 89,
   "metadata": {},
   "outputs": [],
   "source": [
    "#write column list\n",
    "with open('bike_train_column_list_pca.txt', 'w') as f:\n",
    "    f.write(','.join(columns))"
   ]
  },
  {
   "cell_type": "code",
   "execution_count": 90,
   "metadata": {},
   "outputs": [],
   "source": [
    "import xgboost as xgb\n",
    "%matplotlib inline\n",
    "import sys"
   ]
  },
  {
   "cell_type": "code",
   "execution_count": 91,
   "metadata": {},
   "outputs": [],
   "source": [
    "column_list_file = 'bike_train_column_list_pca.txt'\n",
    "train_file = 'bike_train_pca.csv'\n",
    "validation_file = 'bike_validation_pca.csv'\n",
    "test_file = 'bike_test_pca.csv'"
   ]
  },
  {
   "cell_type": "code",
   "execution_count": 92,
   "metadata": {},
   "outputs": [],
   "source": [
    "columns = ''\n",
    "with open(column_list_file, 'r') as f:\n",
    "    columns = f.read().split(',')"
   ]
  },
  {
   "cell_type": "code",
   "execution_count": 94,
   "metadata": {},
   "outputs": [],
   "source": [
    "df_train = pd.read_csv(train_file, names=columns)\n",
    "df_validation = pd.read_csv(validation_file, names=columns)"
   ]
  },
  {
   "cell_type": "code",
   "execution_count": 95,
   "metadata": {},
   "outputs": [
    {
     "data": {
      "text/html": [
       "<div>\n",
       "<style scoped>\n",
       "    .dataframe tbody tr th:only-of-type {\n",
       "        vertical-align: middle;\n",
       "    }\n",
       "\n",
       "    .dataframe tbody tr th {\n",
       "        vertical-align: top;\n",
       "    }\n",
       "\n",
       "    .dataframe thead th {\n",
       "        text-align: right;\n",
       "    }\n",
       "</style>\n",
       "<table border=\"1\" class=\"dataframe\">\n",
       "  <thead>\n",
       "    <tr style=\"text-align: right;\">\n",
       "      <th></th>\n",
       "      <th>count</th>\n",
       "      <th>season</th>\n",
       "      <th>holiday</th>\n",
       "      <th>workingday</th>\n",
       "      <th>weather</th>\n",
       "      <th>year</th>\n",
       "      <th>month</th>\n",
       "      <th>day</th>\n",
       "      <th>dayofweek</th>\n",
       "      <th>hour</th>\n",
       "      <th>component_0</th>\n",
       "      <th>component_1</th>\n",
       "      <th>component_2</th>\n",
       "    </tr>\n",
       "  </thead>\n",
       "  <tbody>\n",
       "    <tr>\n",
       "      <th>0</th>\n",
       "      <td>4.477337</td>\n",
       "      <td>3</td>\n",
       "      <td>0</td>\n",
       "      <td>0</td>\n",
       "      <td>2</td>\n",
       "      <td>2011</td>\n",
       "      <td>9</td>\n",
       "      <td>3</td>\n",
       "      <td>5</td>\n",
       "      <td>0</td>\n",
       "      <td>-11.476381</td>\n",
       "      <td>-9.758820</td>\n",
       "      <td>-3.241009</td>\n",
       "    </tr>\n",
       "    <tr>\n",
       "      <th>1</th>\n",
       "      <td>5.517453</td>\n",
       "      <td>3</td>\n",
       "      <td>0</td>\n",
       "      <td>1</td>\n",
       "      <td>1</td>\n",
       "      <td>2012</td>\n",
       "      <td>8</td>\n",
       "      <td>13</td>\n",
       "      <td>0</td>\n",
       "      <td>14</td>\n",
       "      <td>28.342496</td>\n",
       "      <td>-16.225009</td>\n",
       "      <td>-9.041947</td>\n",
       "    </tr>\n",
       "    <tr>\n",
       "      <th>2</th>\n",
       "      <td>5.814131</td>\n",
       "      <td>4</td>\n",
       "      <td>0</td>\n",
       "      <td>0</td>\n",
       "      <td>1</td>\n",
       "      <td>2011</td>\n",
       "      <td>11</td>\n",
       "      <td>5</td>\n",
       "      <td>5</td>\n",
       "      <td>17</td>\n",
       "      <td>21.029937</td>\n",
       "      <td>6.594147</td>\n",
       "      <td>-5.765722</td>\n",
       "    </tr>\n",
       "    <tr>\n",
       "      <th>3</th>\n",
       "      <td>6.436150</td>\n",
       "      <td>3</td>\n",
       "      <td>0</td>\n",
       "      <td>1</td>\n",
       "      <td>1</td>\n",
       "      <td>2012</td>\n",
       "      <td>8</td>\n",
       "      <td>9</td>\n",
       "      <td>3</td>\n",
       "      <td>19</td>\n",
       "      <td>7.671534</td>\n",
       "      <td>-18.668738</td>\n",
       "      <td>0.512536</td>\n",
       "    </tr>\n",
       "    <tr>\n",
       "      <th>4</th>\n",
       "      <td>4.262680</td>\n",
       "      <td>2</td>\n",
       "      <td>0</td>\n",
       "      <td>1</td>\n",
       "      <td>1</td>\n",
       "      <td>2011</td>\n",
       "      <td>4</td>\n",
       "      <td>14</td>\n",
       "      <td>3</td>\n",
       "      <td>6</td>\n",
       "      <td>-15.235248</td>\n",
       "      <td>7.881643</td>\n",
       "      <td>-4.112557</td>\n",
       "    </tr>\n",
       "  </tbody>\n",
       "</table>\n",
       "</div>"
      ],
      "text/plain": [
       "      count  season  holiday  workingday  weather  year  month  day  \\\n",
       "0  4.477337       3        0           0        2  2011      9    3   \n",
       "1  5.517453       3        0           1        1  2012      8   13   \n",
       "2  5.814131       4        0           0        1  2011     11    5   \n",
       "3  6.436150       3        0           1        1  2012      8    9   \n",
       "4  4.262680       2        0           1        1  2011      4   14   \n",
       "\n",
       "   dayofweek  hour  component_0  component_1  component_2  \n",
       "0          5     0   -11.476381    -9.758820    -3.241009  \n",
       "1          0    14    28.342496   -16.225009    -9.041947  \n",
       "2          5    17    21.029937     6.594147    -5.765722  \n",
       "3          3    19     7.671534   -18.668738     0.512536  \n",
       "4          3     6   -15.235248     7.881643    -4.112557  "
      ]
     },
     "execution_count": 95,
     "metadata": {},
     "output_type": "execute_result"
    }
   ],
   "source": [
    "df_train.head()"
   ]
  },
  {
   "cell_type": "code",
   "execution_count": 96,
   "metadata": {},
   "outputs": [],
   "source": [
    "X_train = df_train.iloc[:, 1:]\n",
    "y_train = df_train.iloc[:,0].ravel() #flatten \n",
    "X_validation = df_validation.iloc[:, 1:]\n",
    "y_validation = df_validation.iloc[:, 0].ravel()"
   ]
  },
  {
   "cell_type": "code",
   "execution_count": 98,
   "metadata": {},
   "outputs": [],
   "source": [
    "regressor = xgb.XGBRegressor(max_depth=5, eta=0.1, subsample=0.7, num_round=150, n_estimators=150)"
   ]
  },
  {
   "cell_type": "code",
   "execution_count": 99,
   "metadata": {},
   "outputs": [
    {
     "data": {
      "text/plain": [
       "XGBRegressor(base_score=None, booster=None, colsample_bylevel=None,\n",
       "             colsample_bynode=None, colsample_bytree=None, eta=0.1, gamma=None,\n",
       "             gpu_id=None, importance_type='gain', interaction_constraints=None,\n",
       "             learning_rate=None, max_delta_step=None, max_depth=5,\n",
       "             min_child_weight=None, missing=nan, monotone_constraints=None,\n",
       "             n_estimators=150, n_jobs=None, num_parallel_tree=None,\n",
       "             num_round=150, random_state=None, reg_alpha=None, reg_lambda=None,\n",
       "             scale_pos_weight=None, subsample=0.7, tree_method=None,\n",
       "             validate_parameters=None, verbosity=None)"
      ]
     },
     "execution_count": 99,
     "metadata": {},
     "output_type": "execute_result"
    }
   ],
   "source": [
    "regressor"
   ]
  },
  {
   "cell_type": "code",
   "execution_count": 100,
   "metadata": {},
   "outputs": [
    {
     "name": "stdout",
     "output_type": "stream",
     "text": [
      "[15:55:29] WARNING: C:\\Users\\Administrator\\workspace\\xgboost-win64_release_1.2.0\\src\\learner.cc:516: \n",
      "Parameters: { num_round } might not be used.\n",
      "\n",
      "  This may not be accurate due to some parameters are only used in language bindings but\n",
      "  passed down to XGBoost core.  Or some parameters are not used but slip through this\n",
      "  verification. Please open an issue if you find above cases.\n",
      "\n",
      "\n",
      "[0]\tvalidation_0-rmse:3.90563\tvalidation_1-rmse:3.91574\n",
      "[1]\tvalidation_0-rmse:3.52677\tvalidation_1-rmse:3.53506\n",
      "[2]\tvalidation_0-rmse:3.18664\tvalidation_1-rmse:3.19358\n",
      "[3]\tvalidation_0-rmse:2.87978\tvalidation_1-rmse:2.88530\n",
      "[4]\tvalidation_0-rmse:2.60421\tvalidation_1-rmse:2.60868\n",
      "[5]\tvalidation_0-rmse:2.35866\tvalidation_1-rmse:2.36257\n",
      "[6]\tvalidation_0-rmse:2.13675\tvalidation_1-rmse:2.14072\n",
      "[7]\tvalidation_0-rmse:1.93831\tvalidation_1-rmse:1.94170\n",
      "[8]\tvalidation_0-rmse:1.76050\tvalidation_1-rmse:1.76411\n",
      "[9]\tvalidation_0-rmse:1.59991\tvalidation_1-rmse:1.60308\n",
      "[10]\tvalidation_0-rmse:1.45576\tvalidation_1-rmse:1.45908\n",
      "[11]\tvalidation_0-rmse:1.32745\tvalidation_1-rmse:1.33074\n",
      "[12]\tvalidation_0-rmse:1.21370\tvalidation_1-rmse:1.21738\n",
      "[13]\tvalidation_0-rmse:1.10642\tvalidation_1-rmse:1.11126\n",
      "[14]\tvalidation_0-rmse:1.01434\tvalidation_1-rmse:1.01919\n",
      "[15]\tvalidation_0-rmse:0.93375\tvalidation_1-rmse:0.93971\n",
      "[16]\tvalidation_0-rmse:0.86166\tvalidation_1-rmse:0.86807\n",
      "[17]\tvalidation_0-rmse:0.79843\tvalidation_1-rmse:0.80602\n",
      "[18]\tvalidation_0-rmse:0.73999\tvalidation_1-rmse:0.74791\n",
      "[19]\tvalidation_0-rmse:0.68742\tvalidation_1-rmse:0.69688\n",
      "[20]\tvalidation_0-rmse:0.64340\tvalidation_1-rmse:0.65381\n",
      "[21]\tvalidation_0-rmse:0.60380\tvalidation_1-rmse:0.61573\n",
      "[22]\tvalidation_0-rmse:0.57041\tvalidation_1-rmse:0.58409\n",
      "[23]\tvalidation_0-rmse:0.54080\tvalidation_1-rmse:0.55543\n",
      "[24]\tvalidation_0-rmse:0.51311\tvalidation_1-rmse:0.52877\n",
      "[25]\tvalidation_0-rmse:0.48625\tvalidation_1-rmse:0.50357\n",
      "[26]\tvalidation_0-rmse:0.46598\tvalidation_1-rmse:0.48443\n",
      "[27]\tvalidation_0-rmse:0.44681\tvalidation_1-rmse:0.46589\n",
      "[28]\tvalidation_0-rmse:0.43070\tvalidation_1-rmse:0.45048\n",
      "[29]\tvalidation_0-rmse:0.41766\tvalidation_1-rmse:0.43823\n",
      "[30]\tvalidation_0-rmse:0.40303\tvalidation_1-rmse:0.42456\n",
      "[31]\tvalidation_0-rmse:0.39234\tvalidation_1-rmse:0.41504\n",
      "[32]\tvalidation_0-rmse:0.37951\tvalidation_1-rmse:0.40381\n",
      "[33]\tvalidation_0-rmse:0.37198\tvalidation_1-rmse:0.39698\n",
      "[34]\tvalidation_0-rmse:0.36511\tvalidation_1-rmse:0.39102\n",
      "[35]\tvalidation_0-rmse:0.35887\tvalidation_1-rmse:0.38525\n",
      "[36]\tvalidation_0-rmse:0.35279\tvalidation_1-rmse:0.38010\n",
      "[37]\tvalidation_0-rmse:0.34859\tvalidation_1-rmse:0.37665\n",
      "[38]\tvalidation_0-rmse:0.34327\tvalidation_1-rmse:0.37212\n",
      "[39]\tvalidation_0-rmse:0.33986\tvalidation_1-rmse:0.36955\n",
      "[40]\tvalidation_0-rmse:0.33520\tvalidation_1-rmse:0.36584\n",
      "[41]\tvalidation_0-rmse:0.32982\tvalidation_1-rmse:0.36130\n",
      "[42]\tvalidation_0-rmse:0.32323\tvalidation_1-rmse:0.35520\n",
      "[43]\tvalidation_0-rmse:0.32114\tvalidation_1-rmse:0.35354\n",
      "[44]\tvalidation_0-rmse:0.31900\tvalidation_1-rmse:0.35172\n",
      "[45]\tvalidation_0-rmse:0.31742\tvalidation_1-rmse:0.35076\n",
      "[46]\tvalidation_0-rmse:0.31454\tvalidation_1-rmse:0.34864\n",
      "[47]\tvalidation_0-rmse:0.30839\tvalidation_1-rmse:0.34308\n",
      "[48]\tvalidation_0-rmse:0.30629\tvalidation_1-rmse:0.34153\n",
      "[49]\tvalidation_0-rmse:0.30026\tvalidation_1-rmse:0.33596\n",
      "[50]\tvalidation_0-rmse:0.29421\tvalidation_1-rmse:0.33012\n",
      "[51]\tvalidation_0-rmse:0.29288\tvalidation_1-rmse:0.32933\n",
      "[52]\tvalidation_0-rmse:0.29181\tvalidation_1-rmse:0.32860\n",
      "[53]\tvalidation_0-rmse:0.29053\tvalidation_1-rmse:0.32772\n",
      "[54]\tvalidation_0-rmse:0.28531\tvalidation_1-rmse:0.32251\n",
      "[55]\tvalidation_0-rmse:0.28475\tvalidation_1-rmse:0.32203\n",
      "[56]\tvalidation_0-rmse:0.28372\tvalidation_1-rmse:0.32131\n",
      "[57]\tvalidation_0-rmse:0.28274\tvalidation_1-rmse:0.32108\n",
      "[58]\tvalidation_0-rmse:0.28177\tvalidation_1-rmse:0.32054\n",
      "[59]\tvalidation_0-rmse:0.28048\tvalidation_1-rmse:0.31984\n",
      "[60]\tvalidation_0-rmse:0.27692\tvalidation_1-rmse:0.31623\n",
      "[61]\tvalidation_0-rmse:0.27552\tvalidation_1-rmse:0.31495\n",
      "[62]\tvalidation_0-rmse:0.27365\tvalidation_1-rmse:0.31337\n",
      "[63]\tvalidation_0-rmse:0.27244\tvalidation_1-rmse:0.31213\n",
      "[64]\tvalidation_0-rmse:0.27180\tvalidation_1-rmse:0.31173\n",
      "[65]\tvalidation_0-rmse:0.26941\tvalidation_1-rmse:0.30967\n",
      "[66]\tvalidation_0-rmse:0.26750\tvalidation_1-rmse:0.30804\n",
      "[67]\tvalidation_0-rmse:0.26663\tvalidation_1-rmse:0.30765\n",
      "[68]\tvalidation_0-rmse:0.26573\tvalidation_1-rmse:0.30710\n",
      "[69]\tvalidation_0-rmse:0.26313\tvalidation_1-rmse:0.30472\n",
      "[70]\tvalidation_0-rmse:0.26185\tvalidation_1-rmse:0.30391\n",
      "[71]\tvalidation_0-rmse:0.26106\tvalidation_1-rmse:0.30366\n",
      "[72]\tvalidation_0-rmse:0.26019\tvalidation_1-rmse:0.30313\n",
      "[73]\tvalidation_0-rmse:0.25974\tvalidation_1-rmse:0.30289\n",
      "[74]\tvalidation_0-rmse:0.25844\tvalidation_1-rmse:0.30237\n",
      "[75]\tvalidation_0-rmse:0.25745\tvalidation_1-rmse:0.30159\n",
      "[76]\tvalidation_0-rmse:0.25696\tvalidation_1-rmse:0.30142\n",
      "[77]\tvalidation_0-rmse:0.25614\tvalidation_1-rmse:0.30085\n",
      "[78]\tvalidation_0-rmse:0.25571\tvalidation_1-rmse:0.30063\n",
      "[79]\tvalidation_0-rmse:0.25478\tvalidation_1-rmse:0.29989\n",
      "[80]\tvalidation_0-rmse:0.25392\tvalidation_1-rmse:0.29943\n",
      "[81]\tvalidation_0-rmse:0.25322\tvalidation_1-rmse:0.29926\n",
      "[82]\tvalidation_0-rmse:0.25287\tvalidation_1-rmse:0.29911\n",
      "[83]\tvalidation_0-rmse:0.25248\tvalidation_1-rmse:0.29901\n",
      "[84]\tvalidation_0-rmse:0.25195\tvalidation_1-rmse:0.29906\n",
      "[85]\tvalidation_0-rmse:0.25169\tvalidation_1-rmse:0.29896\n",
      "[86]\tvalidation_0-rmse:0.25069\tvalidation_1-rmse:0.29847\n",
      "[87]\tvalidation_0-rmse:0.25012\tvalidation_1-rmse:0.29856\n",
      "[88]\tvalidation_0-rmse:0.24965\tvalidation_1-rmse:0.29856\n",
      "[89]\tvalidation_0-rmse:0.24904\tvalidation_1-rmse:0.29842\n",
      "[90]\tvalidation_0-rmse:0.24859\tvalidation_1-rmse:0.29825\n",
      "[91]\tvalidation_0-rmse:0.24800\tvalidation_1-rmse:0.29816\n",
      "[92]\tvalidation_0-rmse:0.24779\tvalidation_1-rmse:0.29794\n",
      "[93]\tvalidation_0-rmse:0.24726\tvalidation_1-rmse:0.29761\n",
      "[94]\tvalidation_0-rmse:0.24667\tvalidation_1-rmse:0.29765\n",
      "[95]\tvalidation_0-rmse:0.24648\tvalidation_1-rmse:0.29767\n",
      "[96]\tvalidation_0-rmse:0.24509\tvalidation_1-rmse:0.29682\n",
      "[97]\tvalidation_0-rmse:0.24448\tvalidation_1-rmse:0.29653\n",
      "[98]\tvalidation_0-rmse:0.24418\tvalidation_1-rmse:0.29649\n",
      "[99]\tvalidation_0-rmse:0.24350\tvalidation_1-rmse:0.29652\n",
      "[100]\tvalidation_0-rmse:0.24317\tvalidation_1-rmse:0.29639\n",
      "[101]\tvalidation_0-rmse:0.24266\tvalidation_1-rmse:0.29606\n",
      "[102]\tvalidation_0-rmse:0.24206\tvalidation_1-rmse:0.29591\n",
      "[103]\tvalidation_0-rmse:0.24185\tvalidation_1-rmse:0.29580\n",
      "[104]\tvalidation_0-rmse:0.24171\tvalidation_1-rmse:0.29575\n",
      "[105]\tvalidation_0-rmse:0.24085\tvalidation_1-rmse:0.29540\n",
      "[106]\tvalidation_0-rmse:0.24007\tvalidation_1-rmse:0.29504\n",
      "[107]\tvalidation_0-rmse:0.23958\tvalidation_1-rmse:0.29502\n",
      "[108]\tvalidation_0-rmse:0.23917\tvalidation_1-rmse:0.29485\n",
      "[109]\tvalidation_0-rmse:0.23882\tvalidation_1-rmse:0.29476\n",
      "[110]\tvalidation_0-rmse:0.23802\tvalidation_1-rmse:0.29412\n",
      "[111]\tvalidation_0-rmse:0.23747\tvalidation_1-rmse:0.29421\n",
      "[112]\tvalidation_0-rmse:0.23725\tvalidation_1-rmse:0.29420\n",
      "[113]\tvalidation_0-rmse:0.23680\tvalidation_1-rmse:0.29400\n",
      "[114]\tvalidation_0-rmse:0.23645\tvalidation_1-rmse:0.29412\n",
      "[115]\tvalidation_0-rmse:0.23629\tvalidation_1-rmse:0.29416\n",
      "[116]\tvalidation_0-rmse:0.23594\tvalidation_1-rmse:0.29413\n",
      "[117]\tvalidation_0-rmse:0.23543\tvalidation_1-rmse:0.29402\n",
      "[118]\tvalidation_0-rmse:0.23494\tvalidation_1-rmse:0.29381\n",
      "[119]\tvalidation_0-rmse:0.23458\tvalidation_1-rmse:0.29375\n",
      "[120]\tvalidation_0-rmse:0.23436\tvalidation_1-rmse:0.29380\n",
      "[121]\tvalidation_0-rmse:0.23394\tvalidation_1-rmse:0.29350\n",
      "[122]\tvalidation_0-rmse:0.23338\tvalidation_1-rmse:0.29344\n",
      "[123]\tvalidation_0-rmse:0.23241\tvalidation_1-rmse:0.29260\n",
      "[124]\tvalidation_0-rmse:0.23177\tvalidation_1-rmse:0.29235\n",
      "[125]\tvalidation_0-rmse:0.23159\tvalidation_1-rmse:0.29232\n",
      "[126]\tvalidation_0-rmse:0.23141\tvalidation_1-rmse:0.29224\n",
      "[127]\tvalidation_0-rmse:0.23088\tvalidation_1-rmse:0.29202\n",
      "[128]\tvalidation_0-rmse:0.23066\tvalidation_1-rmse:0.29200\n",
      "[129]\tvalidation_0-rmse:0.23025\tvalidation_1-rmse:0.29205\n",
      "[130]\tvalidation_0-rmse:0.22951\tvalidation_1-rmse:0.29205\n",
      "[131]\tvalidation_0-rmse:0.22922\tvalidation_1-rmse:0.29198\n",
      "[132]\tvalidation_0-rmse:0.22898\tvalidation_1-rmse:0.29188\n",
      "[133]\tvalidation_0-rmse:0.22853\tvalidation_1-rmse:0.29202\n",
      "[134]\tvalidation_0-rmse:0.22799\tvalidation_1-rmse:0.29187\n",
      "[135]\tvalidation_0-rmse:0.22786\tvalidation_1-rmse:0.29189\n",
      "[136]\tvalidation_0-rmse:0.22749\tvalidation_1-rmse:0.29183\n"
     ]
    },
    {
     "name": "stdout",
     "output_type": "stream",
     "text": [
      "[137]\tvalidation_0-rmse:0.22683\tvalidation_1-rmse:0.29150\n",
      "[138]\tvalidation_0-rmse:0.22668\tvalidation_1-rmse:0.29146\n",
      "[139]\tvalidation_0-rmse:0.22608\tvalidation_1-rmse:0.29149\n",
      "[140]\tvalidation_0-rmse:0.22581\tvalidation_1-rmse:0.29153\n",
      "[141]\tvalidation_0-rmse:0.22531\tvalidation_1-rmse:0.29148\n",
      "[142]\tvalidation_0-rmse:0.22489\tvalidation_1-rmse:0.29158\n",
      "[143]\tvalidation_0-rmse:0.22453\tvalidation_1-rmse:0.29155\n",
      "[144]\tvalidation_0-rmse:0.22419\tvalidation_1-rmse:0.29130\n",
      "[145]\tvalidation_0-rmse:0.22318\tvalidation_1-rmse:0.29077\n",
      "[146]\tvalidation_0-rmse:0.22228\tvalidation_1-rmse:0.29030\n",
      "[147]\tvalidation_0-rmse:0.22199\tvalidation_1-rmse:0.29028\n",
      "[148]\tvalidation_0-rmse:0.22155\tvalidation_1-rmse:0.28997\n",
      "[149]\tvalidation_0-rmse:0.22100\tvalidation_1-rmse:0.28985\n"
     ]
    },
    {
     "data": {
      "text/plain": [
       "XGBRegressor(base_score=0.5, booster='gbtree', colsample_bylevel=1,\n",
       "             colsample_bynode=1, colsample_bytree=1, eta=0.1, gamma=0,\n",
       "             gpu_id=-1, importance_type='gain', interaction_constraints='',\n",
       "             learning_rate=0.100000001, max_delta_step=0, max_depth=5,\n",
       "             min_child_weight=1, missing=nan, monotone_constraints='()',\n",
       "             n_estimators=150, n_jobs=0, num_parallel_tree=1, num_round=150,\n",
       "             random_state=0, reg_alpha=0, reg_lambda=1, scale_pos_weight=1,\n",
       "             subsample=0.7, tree_method='exact', validate_parameters=1,\n",
       "             verbosity=None)"
      ]
     },
     "execution_count": 100,
     "metadata": {},
     "output_type": "execute_result"
    }
   ],
   "source": [
    "regressor.fit(X_train, y_train, eval_set = [(X_train, y_train), (X_validation, y_validation)])"
   ]
  },
  {
   "cell_type": "code",
   "execution_count": 101,
   "metadata": {},
   "outputs": [],
   "source": [
    "eval_result = regressor.evals_result()\n",
    "training_rounds = range(len(eval_result['validation_0']['rmse']))"
   ]
  },
  {
   "cell_type": "code",
   "execution_count": 103,
   "metadata": {
    "scrolled": false
   },
   "outputs": [
    {
     "data": {
      "text/plain": [
       "<matplotlib.legend.Legend at 0x21be43ace20>"
      ]
     },
     "execution_count": 103,
     "metadata": {},
     "output_type": "execute_result"
    },
    {
     "data": {
      "image/png": "[encoded data removed]",
      "text/plain": [
       "<Figure size 432x288 with 1 Axes>"
      ]
     },
     "metadata": {
      "needs_background": "light"
     },
     "output_type": "display_data"
    }
   ],
   "source": [
    "plt.plot(training_rounds,eval_result['validation_0']['rmse'],label='Training Error')\n",
    "plt.plot(training_rounds,eval_result['validation_1']['rmse'],label='Validation Error')\n",
    "plt.grid(True)\n",
    "plt.xlabel('Iteration')\n",
    "plt.ylabel('RMSE')\n",
    "plt.title('Training Vs Validation Error')\n",
    "plt.legend()"
   ]
  },
  {
   "cell_type": "code",
   "execution_count": 131,
   "metadata": {},
   "outputs": [
    {
     "data": {
      "text/plain": [
       "<matplotlib.axes._subplots.AxesSubplot at 0x21be462abe0>"
      ]
     },
     "execution_count": 131,
     "metadata": {},
     "output_type": "execute_result"
    },
    {
     "data": {
      "image/png": "[encoded data removed]",
      "text/plain": [
       "<Figure size 432x288 with 1 Axes>"
      ]
     },
     "metadata": {
      "needs_background": "light"
     },
     "output_type": "display_data"
    }
   ],
   "source": [
    "xgb.plot_importance(regressor)"
   ]
  },
  {
   "cell_type": "code",
   "execution_count": 120,
   "metadata": {},
   "outputs": [
    {
     "data": {
      "text/html": [
       "<div>\n",
       "<style scoped>\n",
       "    .dataframe tbody tr th:only-of-type {\n",
       "        vertical-align: middle;\n",
       "    }\n",
       "\n",
       "    .dataframe tbody tr th {\n",
       "        vertical-align: top;\n",
       "    }\n",
       "\n",
       "    .dataframe thead th {\n",
       "        text-align: right;\n",
       "    }\n",
       "</style>\n",
       "<table border=\"1\" class=\"dataframe\">\n",
       "  <thead>\n",
       "    <tr style=\"text-align: right;\">\n",
       "      <th></th>\n",
       "      <th>count</th>\n",
       "      <th>season</th>\n",
       "      <th>holiday</th>\n",
       "      <th>workingday</th>\n",
       "      <th>weather</th>\n",
       "      <th>year</th>\n",
       "      <th>month</th>\n",
       "      <th>day</th>\n",
       "      <th>dayofweek</th>\n",
       "      <th>hour</th>\n",
       "      <th>component_0</th>\n",
       "      <th>component_1</th>\n",
       "      <th>component_2</th>\n",
       "    </tr>\n",
       "  </thead>\n",
       "  <tbody>\n",
       "    <tr>\n",
       "      <th>0</th>\n",
       "      <td>6.095825</td>\n",
       "      <td>3</td>\n",
       "      <td>0</td>\n",
       "      <td>1</td>\n",
       "      <td>2</td>\n",
       "      <td>2011</td>\n",
       "      <td>7</td>\n",
       "      <td>7</td>\n",
       "      <td>3</td>\n",
       "      <td>8</td>\n",
       "      <td>-16.276981</td>\n",
       "      <td>-13.342667</td>\n",
       "      <td>3.911471</td>\n",
       "    </tr>\n",
       "    <tr>\n",
       "      <th>1</th>\n",
       "      <td>5.961005</td>\n",
       "      <td>2</td>\n",
       "      <td>0</td>\n",
       "      <td>0</td>\n",
       "      <td>1</td>\n",
       "      <td>2011</td>\n",
       "      <td>6</td>\n",
       "      <td>11</td>\n",
       "      <td>5</td>\n",
       "      <td>13</td>\n",
       "      <td>7.671534</td>\n",
       "      <td>-18.668738</td>\n",
       "      <td>0.512536</td>\n",
       "    </tr>\n",
       "    <tr>\n",
       "      <th>2</th>\n",
       "      <td>1.098612</td>\n",
       "      <td>1</td>\n",
       "      <td>0</td>\n",
       "      <td>1</td>\n",
       "      <td>1</td>\n",
       "      <td>2011</td>\n",
       "      <td>2</td>\n",
       "      <td>14</td>\n",
       "      <td>0</td>\n",
       "      <td>2</td>\n",
       "      <td>22.333884</td>\n",
       "      <td>10.107577</td>\n",
       "      <td>2.912159</td>\n",
       "    </tr>\n",
       "    <tr>\n",
       "      <th>3</th>\n",
       "      <td>3.891820</td>\n",
       "      <td>1</td>\n",
       "      <td>0</td>\n",
       "      <td>1</td>\n",
       "      <td>1</td>\n",
       "      <td>2011</td>\n",
       "      <td>2</td>\n",
       "      <td>8</td>\n",
       "      <td>1</td>\n",
       "      <td>10</td>\n",
       "      <td>17.691233</td>\n",
       "      <td>20.698390</td>\n",
       "      <td>20.067608</td>\n",
       "    </tr>\n",
       "    <tr>\n",
       "      <th>4</th>\n",
       "      <td>4.025352</td>\n",
       "      <td>4</td>\n",
       "      <td>0</td>\n",
       "      <td>0</td>\n",
       "      <td>1</td>\n",
       "      <td>2011</td>\n",
       "      <td>12</td>\n",
       "      <td>4</td>\n",
       "      <td>6</td>\n",
       "      <td>8</td>\n",
       "      <td>-27.370508</td>\n",
       "      <td>10.833676</td>\n",
       "      <td>-9.547505</td>\n",
       "    </tr>\n",
       "  </tbody>\n",
       "</table>\n",
       "</div>"
      ],
      "text/plain": [
       "      count  season  holiday  workingday  weather  year  month  day  \\\n",
       "0  6.095825       3        0           1        2  2011      7    7   \n",
       "1  5.961005       2        0           0        1  2011      6   11   \n",
       "2  1.098612       1        0           1        1  2011      2   14   \n",
       "3  3.891820       1        0           1        1  2011      2    8   \n",
       "4  4.025352       4        0           0        1  2011     12    4   \n",
       "\n",
       "   dayofweek  hour  component_0  component_1  component_2  \n",
       "0          3     8   -16.276981   -13.342667     3.911471  \n",
       "1          5    13     7.671534   -18.668738     0.512536  \n",
       "2          0     2    22.333884    10.107577     2.912159  \n",
       "3          1    10    17.691233    20.698390    20.067608  \n",
       "4          6     8   -27.370508    10.833676    -9.547505  "
      ]
     },
     "execution_count": 120,
     "metadata": {},
     "output_type": "execute_result"
    }
   ],
   "source": [
    "df = pd.read_csv(validation_file, names=columns)\n",
    "df.head()"
   ]
  },
  {
   "cell_type": "code",
   "execution_count": 121,
   "metadata": {},
   "outputs": [
    {
     "data": {
      "text/html": [
       "<div>\n",
       "<style scoped>\n",
       "    .dataframe tbody tr th:only-of-type {\n",
       "        vertical-align: middle;\n",
       "    }\n",
       "\n",
       "    .dataframe tbody tr th {\n",
       "        vertical-align: top;\n",
       "    }\n",
       "\n",
       "    .dataframe thead th {\n",
       "        text-align: right;\n",
       "    }\n",
       "</style>\n",
       "<table border=\"1\" class=\"dataframe\">\n",
       "  <thead>\n",
       "    <tr style=\"text-align: right;\">\n",
       "      <th></th>\n",
       "      <th>season</th>\n",
       "      <th>holiday</th>\n",
       "      <th>workingday</th>\n",
       "      <th>weather</th>\n",
       "      <th>year</th>\n",
       "      <th>month</th>\n",
       "      <th>day</th>\n",
       "      <th>dayofweek</th>\n",
       "      <th>hour</th>\n",
       "      <th>component_0</th>\n",
       "      <th>component_1</th>\n",
       "      <th>component_2</th>\n",
       "    </tr>\n",
       "  </thead>\n",
       "  <tbody>\n",
       "    <tr>\n",
       "      <th>0</th>\n",
       "      <td>3</td>\n",
       "      <td>0</td>\n",
       "      <td>1</td>\n",
       "      <td>2</td>\n",
       "      <td>2011</td>\n",
       "      <td>7</td>\n",
       "      <td>7</td>\n",
       "      <td>3</td>\n",
       "      <td>8</td>\n",
       "      <td>-16.276981</td>\n",
       "      <td>-13.342667</td>\n",
       "      <td>3.911471</td>\n",
       "    </tr>\n",
       "    <tr>\n",
       "      <th>1</th>\n",
       "      <td>2</td>\n",
       "      <td>0</td>\n",
       "      <td>0</td>\n",
       "      <td>1</td>\n",
       "      <td>2011</td>\n",
       "      <td>6</td>\n",
       "      <td>11</td>\n",
       "      <td>5</td>\n",
       "      <td>13</td>\n",
       "      <td>7.671534</td>\n",
       "      <td>-18.668738</td>\n",
       "      <td>0.512536</td>\n",
       "    </tr>\n",
       "    <tr>\n",
       "      <th>2</th>\n",
       "      <td>1</td>\n",
       "      <td>0</td>\n",
       "      <td>1</td>\n",
       "      <td>1</td>\n",
       "      <td>2011</td>\n",
       "      <td>2</td>\n",
       "      <td>14</td>\n",
       "      <td>0</td>\n",
       "      <td>2</td>\n",
       "      <td>22.333884</td>\n",
       "      <td>10.107577</td>\n",
       "      <td>2.912159</td>\n",
       "    </tr>\n",
       "    <tr>\n",
       "      <th>3</th>\n",
       "      <td>1</td>\n",
       "      <td>0</td>\n",
       "      <td>1</td>\n",
       "      <td>1</td>\n",
       "      <td>2011</td>\n",
       "      <td>2</td>\n",
       "      <td>8</td>\n",
       "      <td>1</td>\n",
       "      <td>10</td>\n",
       "      <td>17.691233</td>\n",
       "      <td>20.698390</td>\n",
       "      <td>20.067608</td>\n",
       "    </tr>\n",
       "    <tr>\n",
       "      <th>4</th>\n",
       "      <td>4</td>\n",
       "      <td>0</td>\n",
       "      <td>0</td>\n",
       "      <td>1</td>\n",
       "      <td>2011</td>\n",
       "      <td>12</td>\n",
       "      <td>4</td>\n",
       "      <td>6</td>\n",
       "      <td>8</td>\n",
       "      <td>-27.370508</td>\n",
       "      <td>10.833676</td>\n",
       "      <td>-9.547505</td>\n",
       "    </tr>\n",
       "  </tbody>\n",
       "</table>\n",
       "</div>"
      ],
      "text/plain": [
       "   season  holiday  workingday  weather  year  month  day  dayofweek  hour  \\\n",
       "0       3        0           1        2  2011      7    7          3     8   \n",
       "1       2        0           0        1  2011      6   11          5    13   \n",
       "2       1        0           1        1  2011      2   14          0     2   \n",
       "3       1        0           1        1  2011      2    8          1    10   \n",
       "4       4        0           0        1  2011     12    4          6     8   \n",
       "\n",
       "   component_0  component_1  component_2  \n",
       "0   -16.276981   -13.342667     3.911471  \n",
       "1     7.671534   -18.668738     0.512536  \n",
       "2    22.333884    10.107577     2.912159  \n",
       "3    17.691233    20.698390    20.067608  \n",
       "4   -27.370508    10.833676    -9.547505  "
      ]
     },
     "execution_count": 121,
     "metadata": {},
     "output_type": "execute_result"
    }
   ],
   "source": [
    "X_test = df.iloc[:, 1:]\n",
    "X_test[:5]"
   ]
  },
  {
   "cell_type": "code",
   "execution_count": 122,
   "metadata": {},
   "outputs": [
    {
     "data": {
      "text/plain": [
       "array([6.031296 , 5.9272237, 1.4931023, 4.0158186, 4.409105 ],\n",
       "      dtype=float32)"
      ]
     },
     "execution_count": 122,
     "metadata": {},
     "output_type": "execute_result"
    }
   ],
   "source": [
    "result = regressor.predict(X_test)\n",
    "result[:5]"
   ]
  },
  {
   "cell_type": "code",
   "execution_count": 123,
   "metadata": {},
   "outputs": [
    {
     "data": {
      "text/plain": [
       "count    3266.000000\n",
       "mean        4.599140\n",
       "std         1.362192\n",
       "min         0.770209\n",
       "25%         3.823976\n",
       "50%         4.990810\n",
       "75%         5.595113\n",
       "max         6.813532\n",
       "Name: count_predicted, dtype: float64"
      ]
     },
     "execution_count": 123,
     "metadata": {},
     "output_type": "execute_result"
    }
   ],
   "source": [
    "df['count_predicted'] = result\n",
    "df['count_predicted'].describe()"
   ]
  },
  {
   "cell_type": "code",
   "execution_count": 124,
   "metadata": {},
   "outputs": [
    {
     "data": {
      "text/html": [
       "<div>\n",
       "<style scoped>\n",
       "    .dataframe tbody tr th:only-of-type {\n",
       "        vertical-align: middle;\n",
       "    }\n",
       "\n",
       "    .dataframe tbody tr th {\n",
       "        vertical-align: top;\n",
       "    }\n",
       "\n",
       "    .dataframe thead th {\n",
       "        text-align: right;\n",
       "    }\n",
       "</style>\n",
       "<table border=\"1\" class=\"dataframe\">\n",
       "  <thead>\n",
       "    <tr style=\"text-align: right;\">\n",
       "      <th></th>\n",
       "      <th>count</th>\n",
       "      <th>season</th>\n",
       "      <th>holiday</th>\n",
       "      <th>workingday</th>\n",
       "      <th>weather</th>\n",
       "      <th>year</th>\n",
       "      <th>month</th>\n",
       "      <th>day</th>\n",
       "      <th>dayofweek</th>\n",
       "      <th>hour</th>\n",
       "      <th>component_0</th>\n",
       "      <th>component_1</th>\n",
       "      <th>component_2</th>\n",
       "      <th>count_predicted</th>\n",
       "    </tr>\n",
       "  </thead>\n",
       "  <tbody>\n",
       "  </tbody>\n",
       "</table>\n",
       "</div>"
      ],
      "text/plain": [
       "Empty DataFrame\n",
       "Columns: [count, season, holiday, workingday, weather, year, month, day, dayofweek, hour, component_0, component_1, component_2, count_predicted]\n",
       "Index: []"
      ]
     },
     "execution_count": 124,
     "metadata": {},
     "output_type": "execute_result"
    }
   ],
   "source": [
    "df[df['count_predicted'] < 0]"
   ]
  },
  {
   "cell_type": "code",
   "execution_count": 125,
   "metadata": {},
   "outputs": [
    {
     "data": {
      "image/png": "[encoded data removed]",
      "text/plain": [
       "<Figure size 432x288 with 1 Axes>"
      ]
     },
     "metadata": {
      "needs_background": "light"
     },
     "output_type": "display_data"
    }
   ],
   "source": [
    "plt.plot(df['count'], label='Actual')\n",
    "plt.plot(df['count_predicted'], label='Predicted')\n",
    "plt.xlabel('sample')\n",
    "plt.ylabel('count')\n",
    "plt.xlim([100,150])\n",
    "plt.legend()\n",
    "plt.show()"
   ]
  },
  {
   "cell_type": "code",
   "execution_count": 126,
   "metadata": {},
   "outputs": [
    {
     "data": {
      "image/png": "[encoded data removed]",
      "text/plain": [
       "<Figure size 432x288 with 1 Axes>"
      ]
     },
     "metadata": {
      "needs_background": "light"
     },
     "output_type": "display_data"
    }
   ],
   "source": [
    "residuals = (df['count'] - df['count_predicted'])\n",
    "\n",
    "plt.hist(residuals)\n",
    "plt.grid(True)\n",
    "plt.xlabel('Actual - Predicted')\n",
    "plt.ylabel('count')\n",
    "plt.title('Residuals')\n",
    "plt.axvline(color='r')\n",
    "plt.show()"
   ]
  },
  {
   "cell_type": "code",
   "execution_count": 127,
   "metadata": {},
   "outputs": [
    {
     "name": "stdout",
     "output_type": "stream",
     "text": [
      " Under Estimation: 0.54\n",
      " Over  Estimation: 0.46\n"
     ]
    }
   ],
   "source": [
    "value_counts = (residuals > 0).value_counts(sort=False)\n",
    "print(' Under Estimation: {0:0.2f}'.format(value_counts[True]/len(residuals)))\n",
    "print(' Over  Estimation: {0:0.2f}'.format(value_counts[False]/len(residuals)))"
   ]
  },
  {
   "cell_type": "code",
   "execution_count": 129,
   "metadata": {},
   "outputs": [
    {
     "name": "stdout",
     "output_type": "stream",
     "text": [
      "RMSE: 0.29\n"
     ]
    }
   ],
   "source": [
    "from sklearn.metrics import mean_squared_error, mean_absolute_error\n",
    "print(\"RMSE: {0:0.2f}\".format(mean_squared_error(df['count'],df['count_predicted'])**.5))"
   ]
  },
  {
   "cell_type": "code",
   "execution_count": 105,
   "metadata": {},
   "outputs": [],
   "source": [
    "def adjust_count(x):\n",
    "    if x < 0:\n",
    "        return 0\n",
    "    else:\n",
    "        return x"
   ]
  },
  {
   "cell_type": "code",
   "execution_count": 108,
   "metadata": {},
   "outputs": [
    {
     "data": {
      "text/html": [
       "<div>\n",
       "<style scoped>\n",
       "    .dataframe tbody tr th:only-of-type {\n",
       "        vertical-align: middle;\n",
       "    }\n",
       "\n",
       "    .dataframe tbody tr th {\n",
       "        vertical-align: top;\n",
       "    }\n",
       "\n",
       "    .dataframe thead th {\n",
       "        text-align: right;\n",
       "    }\n",
       "</style>\n",
       "<table border=\"1\" class=\"dataframe\">\n",
       "  <thead>\n",
       "    <tr style=\"text-align: right;\">\n",
       "      <th></th>\n",
       "      <th>datetime</th>\n",
       "      <th>season</th>\n",
       "      <th>holiday</th>\n",
       "      <th>workingday</th>\n",
       "      <th>weather</th>\n",
       "      <th>year</th>\n",
       "      <th>month</th>\n",
       "      <th>day</th>\n",
       "      <th>dayofweek</th>\n",
       "      <th>hour</th>\n",
       "      <th>component_0</th>\n",
       "      <th>component_1</th>\n",
       "      <th>component_2</th>\n",
       "    </tr>\n",
       "  </thead>\n",
       "  <tbody>\n",
       "    <tr>\n",
       "      <th>0</th>\n",
       "      <td>2011-01-20 00:00:00</td>\n",
       "      <td>1</td>\n",
       "      <td>0</td>\n",
       "      <td>1</td>\n",
       "      <td>1</td>\n",
       "      <td>2011</td>\n",
       "      <td>1</td>\n",
       "      <td>20</td>\n",
       "      <td>3</td>\n",
       "      <td>0</td>\n",
       "      <td>7.202112</td>\n",
       "      <td>16.736082</td>\n",
       "      <td>10.901000</td>\n",
       "    </tr>\n",
       "    <tr>\n",
       "      <th>1</th>\n",
       "      <td>2011-01-20 01:00:00</td>\n",
       "      <td>1</td>\n",
       "      <td>0</td>\n",
       "      <td>1</td>\n",
       "      <td>1</td>\n",
       "      <td>2011</td>\n",
       "      <td>1</td>\n",
       "      <td>20</td>\n",
       "      <td>3</td>\n",
       "      <td>1</td>\n",
       "      <td>3.166753</td>\n",
       "      <td>12.943166</td>\n",
       "      <td>-14.591846</td>\n",
       "    </tr>\n",
       "    <tr>\n",
       "      <th>2</th>\n",
       "      <td>2011-01-20 02:00:00</td>\n",
       "      <td>1</td>\n",
       "      <td>0</td>\n",
       "      <td>1</td>\n",
       "      <td>1</td>\n",
       "      <td>2011</td>\n",
       "      <td>1</td>\n",
       "      <td>20</td>\n",
       "      <td>3</td>\n",
       "      <td>2</td>\n",
       "      <td>3.166753</td>\n",
       "      <td>12.943166</td>\n",
       "      <td>-14.591846</td>\n",
       "    </tr>\n",
       "    <tr>\n",
       "      <th>3</th>\n",
       "      <td>2011-01-20 03:00:00</td>\n",
       "      <td>1</td>\n",
       "      <td>0</td>\n",
       "      <td>1</td>\n",
       "      <td>1</td>\n",
       "      <td>2011</td>\n",
       "      <td>1</td>\n",
       "      <td>20</td>\n",
       "      <td>3</td>\n",
       "      <td>3</td>\n",
       "      <td>4.879866</td>\n",
       "      <td>14.396942</td>\n",
       "      <td>-3.798227</td>\n",
       "    </tr>\n",
       "    <tr>\n",
       "      <th>4</th>\n",
       "      <td>2011-01-20 04:00:00</td>\n",
       "      <td>1</td>\n",
       "      <td>0</td>\n",
       "      <td>1</td>\n",
       "      <td>1</td>\n",
       "      <td>2011</td>\n",
       "      <td>1</td>\n",
       "      <td>20</td>\n",
       "      <td>3</td>\n",
       "      <td>4</td>\n",
       "      <td>4.879866</td>\n",
       "      <td>14.396942</td>\n",
       "      <td>-3.798227</td>\n",
       "    </tr>\n",
       "  </tbody>\n",
       "</table>\n",
       "</div>"
      ],
      "text/plain": [
       "             datetime  season  holiday  workingday  weather  year  month  day  \\\n",
       "0 2011-01-20 00:00:00       1        0           1        1  2011      1   20   \n",
       "1 2011-01-20 01:00:00       1        0           1        1  2011      1   20   \n",
       "2 2011-01-20 02:00:00       1        0           1        1  2011      1   20   \n",
       "3 2011-01-20 03:00:00       1        0           1        1  2011      1   20   \n",
       "4 2011-01-20 04:00:00       1        0           1        1  2011      1   20   \n",
       "\n",
       "   dayofweek  hour  component_0  component_1  component_2  \n",
       "0          3     0     7.202112    16.736082    10.901000  \n",
       "1          3     1     3.166753    12.943166   -14.591846  \n",
       "2          3     2     3.166753    12.943166   -14.591846  \n",
       "3          3     3     4.879866    14.396942    -3.798227  \n",
       "4          3     4     4.879866    14.396942    -3.798227  "
      ]
     },
     "execution_count": 108,
     "metadata": {},
     "output_type": "execute_result"
    }
   ],
   "source": [
    "df_test.head()"
   ]
  },
  {
   "cell_type": "code",
   "execution_count": 110,
   "metadata": {},
   "outputs": [
    {
     "data": {
      "text/html": [
       "<div>\n",
       "<style scoped>\n",
       "    .dataframe tbody tr th:only-of-type {\n",
       "        vertical-align: middle;\n",
       "    }\n",
       "\n",
       "    .dataframe tbody tr th {\n",
       "        vertical-align: top;\n",
       "    }\n",
       "\n",
       "    .dataframe thead th {\n",
       "        text-align: right;\n",
       "    }\n",
       "</style>\n",
       "<table border=\"1\" class=\"dataframe\">\n",
       "  <thead>\n",
       "    <tr style=\"text-align: right;\">\n",
       "      <th></th>\n",
       "      <th>season</th>\n",
       "      <th>holiday</th>\n",
       "      <th>workingday</th>\n",
       "      <th>weather</th>\n",
       "      <th>year</th>\n",
       "      <th>month</th>\n",
       "      <th>day</th>\n",
       "      <th>dayofweek</th>\n",
       "      <th>hour</th>\n",
       "      <th>component_0</th>\n",
       "      <th>component_1</th>\n",
       "      <th>component_2</th>\n",
       "    </tr>\n",
       "  </thead>\n",
       "  <tbody>\n",
       "    <tr>\n",
       "      <th>0</th>\n",
       "      <td>1</td>\n",
       "      <td>0</td>\n",
       "      <td>1</td>\n",
       "      <td>1</td>\n",
       "      <td>2011</td>\n",
       "      <td>1</td>\n",
       "      <td>20</td>\n",
       "      <td>3</td>\n",
       "      <td>0</td>\n",
       "      <td>7.202112</td>\n",
       "      <td>16.736082</td>\n",
       "      <td>10.901000</td>\n",
       "    </tr>\n",
       "    <tr>\n",
       "      <th>1</th>\n",
       "      <td>1</td>\n",
       "      <td>0</td>\n",
       "      <td>1</td>\n",
       "      <td>1</td>\n",
       "      <td>2011</td>\n",
       "      <td>1</td>\n",
       "      <td>20</td>\n",
       "      <td>3</td>\n",
       "      <td>1</td>\n",
       "      <td>3.166753</td>\n",
       "      <td>12.943166</td>\n",
       "      <td>-14.591846</td>\n",
       "    </tr>\n",
       "    <tr>\n",
       "      <th>2</th>\n",
       "      <td>1</td>\n",
       "      <td>0</td>\n",
       "      <td>1</td>\n",
       "      <td>1</td>\n",
       "      <td>2011</td>\n",
       "      <td>1</td>\n",
       "      <td>20</td>\n",
       "      <td>3</td>\n",
       "      <td>2</td>\n",
       "      <td>3.166753</td>\n",
       "      <td>12.943166</td>\n",
       "      <td>-14.591846</td>\n",
       "    </tr>\n",
       "    <tr>\n",
       "      <th>3</th>\n",
       "      <td>1</td>\n",
       "      <td>0</td>\n",
       "      <td>1</td>\n",
       "      <td>1</td>\n",
       "      <td>2011</td>\n",
       "      <td>1</td>\n",
       "      <td>20</td>\n",
       "      <td>3</td>\n",
       "      <td>3</td>\n",
       "      <td>4.879866</td>\n",
       "      <td>14.396942</td>\n",
       "      <td>-3.798227</td>\n",
       "    </tr>\n",
       "    <tr>\n",
       "      <th>4</th>\n",
       "      <td>1</td>\n",
       "      <td>0</td>\n",
       "      <td>1</td>\n",
       "      <td>1</td>\n",
       "      <td>2011</td>\n",
       "      <td>1</td>\n",
       "      <td>20</td>\n",
       "      <td>3</td>\n",
       "      <td>4</td>\n",
       "      <td>4.879866</td>\n",
       "      <td>14.396942</td>\n",
       "      <td>-3.798227</td>\n",
       "    </tr>\n",
       "  </tbody>\n",
       "</table>\n",
       "</div>"
      ],
      "text/plain": [
       "   season  holiday  workingday  weather  year  month  day  dayofweek  hour  \\\n",
       "0       1        0           1        1  2011      1   20          3     0   \n",
       "1       1        0           1        1  2011      1   20          3     1   \n",
       "2       1        0           1        1  2011      1   20          3     2   \n",
       "3       1        0           1        1  2011      1   20          3     3   \n",
       "4       1        0           1        1  2011      1   20          3     4   \n",
       "\n",
       "   component_0  component_1  component_2  \n",
       "0     7.202112    16.736082    10.901000  \n",
       "1     3.166753    12.943166   -14.591846  \n",
       "2     3.166753    12.943166   -14.591846  \n",
       "3     4.879866    14.396942    -3.798227  \n",
       "4     4.879866    14.396942    -3.798227  "
      ]
     },
     "execution_count": 110,
     "metadata": {},
     "output_type": "execute_result"
    }
   ],
   "source": [
    "X_test = df_test.iloc[:, 1:]\n",
    "X_test.head()"
   ]
  },
  {
   "cell_type": "code",
   "execution_count": 111,
   "metadata": {},
   "outputs": [],
   "source": [
    "result = regressor.predict(X_test)"
   ]
  },
  {
   "cell_type": "code",
   "execution_count": 112,
   "metadata": {},
   "outputs": [
    {
     "data": {
      "text/plain": [
       "array([2.2724266, 1.8301077, 1.5003153, ..., 4.8580766, 4.5704656,\n",
       "       4.210455 ], dtype=float32)"
      ]
     },
     "execution_count": 112,
     "metadata": {},
     "output_type": "execute_result"
    }
   ],
   "source": [
    "result"
   ]
  },
  {
   "cell_type": "code",
   "execution_count": 113,
   "metadata": {},
   "outputs": [],
   "source": [
    "df_test['count'] = np.expm1(result)"
   ]
  },
  {
   "cell_type": "code",
   "execution_count": 114,
   "metadata": {},
   "outputs": [
    {
     "data": {
      "text/html": [
       "<div>\n",
       "<style scoped>\n",
       "    .dataframe tbody tr th:only-of-type {\n",
       "        vertical-align: middle;\n",
       "    }\n",
       "\n",
       "    .dataframe tbody tr th {\n",
       "        vertical-align: top;\n",
       "    }\n",
       "\n",
       "    .dataframe thead th {\n",
       "        text-align: right;\n",
       "    }\n",
       "</style>\n",
       "<table border=\"1\" class=\"dataframe\">\n",
       "  <thead>\n",
       "    <tr style=\"text-align: right;\">\n",
       "      <th></th>\n",
       "      <th>datetime</th>\n",
       "      <th>season</th>\n",
       "      <th>holiday</th>\n",
       "      <th>workingday</th>\n",
       "      <th>weather</th>\n",
       "      <th>year</th>\n",
       "      <th>month</th>\n",
       "      <th>day</th>\n",
       "      <th>dayofweek</th>\n",
       "      <th>hour</th>\n",
       "      <th>component_0</th>\n",
       "      <th>component_1</th>\n",
       "      <th>component_2</th>\n",
       "      <th>count</th>\n",
       "    </tr>\n",
       "  </thead>\n",
       "  <tbody>\n",
       "    <tr>\n",
       "      <th>0</th>\n",
       "      <td>2011-01-20 00:00:00</td>\n",
       "      <td>1</td>\n",
       "      <td>0</td>\n",
       "      <td>1</td>\n",
       "      <td>1</td>\n",
       "      <td>2011</td>\n",
       "      <td>1</td>\n",
       "      <td>20</td>\n",
       "      <td>3</td>\n",
       "      <td>0</td>\n",
       "      <td>7.202112</td>\n",
       "      <td>16.736082</td>\n",
       "      <td>10.901000</td>\n",
       "      <td>8.702917</td>\n",
       "    </tr>\n",
       "    <tr>\n",
       "      <th>1</th>\n",
       "      <td>2011-01-20 01:00:00</td>\n",
       "      <td>1</td>\n",
       "      <td>0</td>\n",
       "      <td>1</td>\n",
       "      <td>1</td>\n",
       "      <td>2011</td>\n",
       "      <td>1</td>\n",
       "      <td>20</td>\n",
       "      <td>3</td>\n",
       "      <td>1</td>\n",
       "      <td>3.166753</td>\n",
       "      <td>12.943166</td>\n",
       "      <td>-14.591846</td>\n",
       "      <td>5.234558</td>\n",
       "    </tr>\n",
       "    <tr>\n",
       "      <th>2</th>\n",
       "      <td>2011-01-20 02:00:00</td>\n",
       "      <td>1</td>\n",
       "      <td>0</td>\n",
       "      <td>1</td>\n",
       "      <td>1</td>\n",
       "      <td>2011</td>\n",
       "      <td>1</td>\n",
       "      <td>20</td>\n",
       "      <td>3</td>\n",
       "      <td>2</td>\n",
       "      <td>3.166753</td>\n",
       "      <td>12.943166</td>\n",
       "      <td>-14.591846</td>\n",
       "      <td>3.483102</td>\n",
       "    </tr>\n",
       "    <tr>\n",
       "      <th>3</th>\n",
       "      <td>2011-01-20 03:00:00</td>\n",
       "      <td>1</td>\n",
       "      <td>0</td>\n",
       "      <td>1</td>\n",
       "      <td>1</td>\n",
       "      <td>2011</td>\n",
       "      <td>1</td>\n",
       "      <td>20</td>\n",
       "      <td>3</td>\n",
       "      <td>3</td>\n",
       "      <td>4.879866</td>\n",
       "      <td>14.396942</td>\n",
       "      <td>-3.798227</td>\n",
       "      <td>2.015676</td>\n",
       "    </tr>\n",
       "    <tr>\n",
       "      <th>4</th>\n",
       "      <td>2011-01-20 04:00:00</td>\n",
       "      <td>1</td>\n",
       "      <td>0</td>\n",
       "      <td>1</td>\n",
       "      <td>1</td>\n",
       "      <td>2011</td>\n",
       "      <td>1</td>\n",
       "      <td>20</td>\n",
       "      <td>3</td>\n",
       "      <td>4</td>\n",
       "      <td>4.879866</td>\n",
       "      <td>14.396942</td>\n",
       "      <td>-3.798227</td>\n",
       "      <td>1.919580</td>\n",
       "    </tr>\n",
       "  </tbody>\n",
       "</table>\n",
       "</div>"
      ],
      "text/plain": [
       "             datetime  season  holiday  workingday  weather  year  month  day  \\\n",
       "0 2011-01-20 00:00:00       1        0           1        1  2011      1   20   \n",
       "1 2011-01-20 01:00:00       1        0           1        1  2011      1   20   \n",
       "2 2011-01-20 02:00:00       1        0           1        1  2011      1   20   \n",
       "3 2011-01-20 03:00:00       1        0           1        1  2011      1   20   \n",
       "4 2011-01-20 04:00:00       1        0           1        1  2011      1   20   \n",
       "\n",
       "   dayofweek  hour  component_0  component_1  component_2     count  \n",
       "0          3     0     7.202112    16.736082    10.901000  8.702917  \n",
       "1          3     1     3.166753    12.943166   -14.591846  5.234558  \n",
       "2          3     2     3.166753    12.943166   -14.591846  3.483102  \n",
       "3          3     3     4.879866    14.396942    -3.798227  2.015676  \n",
       "4          3     4     4.879866    14.396942    -3.798227  1.919580  "
      ]
     },
     "execution_count": 114,
     "metadata": {},
     "output_type": "execute_result"
    }
   ],
   "source": [
    "df_test.head()"
   ]
  },
  {
   "cell_type": "code",
   "execution_count": 115,
   "metadata": {},
   "outputs": [
    {
     "data": {
      "text/html": [
       "<div>\n",
       "<style scoped>\n",
       "    .dataframe tbody tr th:only-of-type {\n",
       "        vertical-align: middle;\n",
       "    }\n",
       "\n",
       "    .dataframe tbody tr th {\n",
       "        vertical-align: top;\n",
       "    }\n",
       "\n",
       "    .dataframe thead th {\n",
       "        text-align: right;\n",
       "    }\n",
       "</style>\n",
       "<table border=\"1\" class=\"dataframe\">\n",
       "  <thead>\n",
       "    <tr style=\"text-align: right;\">\n",
       "      <th></th>\n",
       "      <th>datetime</th>\n",
       "      <th>season</th>\n",
       "      <th>holiday</th>\n",
       "      <th>workingday</th>\n",
       "      <th>weather</th>\n",
       "      <th>year</th>\n",
       "      <th>month</th>\n",
       "      <th>day</th>\n",
       "      <th>dayofweek</th>\n",
       "      <th>hour</th>\n",
       "      <th>component_0</th>\n",
       "      <th>component_1</th>\n",
       "      <th>component_2</th>\n",
       "      <th>count</th>\n",
       "    </tr>\n",
       "  </thead>\n",
       "  <tbody>\n",
       "  </tbody>\n",
       "</table>\n",
       "</div>"
      ],
      "text/plain": [
       "Empty DataFrame\n",
       "Columns: [datetime, season, holiday, workingday, weather, year, month, day, dayofweek, hour, component_0, component_1, component_2, count]\n",
       "Index: []"
      ]
     },
     "execution_count": 115,
     "metadata": {},
     "output_type": "execute_result"
    }
   ],
   "source": [
    "df_test[df_test['count'] < 0]"
   ]
  },
  {
   "cell_type": "code",
   "execution_count": 116,
   "metadata": {},
   "outputs": [],
   "source": [
    "df_test['count'] = df_test['count'].map(adjust_count)"
   ]
  },
  {
   "cell_type": "code",
   "execution_count": 118,
   "metadata": {},
   "outputs": [],
   "source": [
    "df_test[['datetime', 'count']].to_csv('predicted_count_pca.csv', index=False)"
   ]
  },
  {
   "cell_type": "code",
   "execution_count": 119,
   "metadata": {},
   "outputs": [
    {
     "data": {
      "text/html": [
       "<div>\n",
       "<style scoped>\n",
       "    .dataframe tbody tr th:only-of-type {\n",
       "        vertical-align: middle;\n",
       "    }\n",
       "\n",
       "    .dataframe tbody tr th {\n",
       "        vertical-align: top;\n",
       "    }\n",
       "\n",
       "    .dataframe thead th {\n",
       "        text-align: right;\n",
       "    }\n",
       "</style>\n",
       "<table border=\"1\" class=\"dataframe\">\n",
       "  <thead>\n",
       "    <tr style=\"text-align: right;\">\n",
       "      <th></th>\n",
       "      <th>datetime</th>\n",
       "      <th>count</th>\n",
       "    </tr>\n",
       "  </thead>\n",
       "  <tbody>\n",
       "    <tr>\n",
       "      <th>0</th>\n",
       "      <td>2011-01-20 00:00:00</td>\n",
       "      <td>8.702917</td>\n",
       "    </tr>\n",
       "    <tr>\n",
       "      <th>1</th>\n",
       "      <td>2011-01-20 01:00:00</td>\n",
       "      <td>5.234558</td>\n",
       "    </tr>\n",
       "    <tr>\n",
       "      <th>2</th>\n",
       "      <td>2011-01-20 02:00:00</td>\n",
       "      <td>3.483102</td>\n",
       "    </tr>\n",
       "    <tr>\n",
       "      <th>3</th>\n",
       "      <td>2011-01-20 03:00:00</td>\n",
       "      <td>2.015676</td>\n",
       "    </tr>\n",
       "    <tr>\n",
       "      <th>4</th>\n",
       "      <td>2011-01-20 04:00:00</td>\n",
       "      <td>1.919580</td>\n",
       "    </tr>\n",
       "    <tr>\n",
       "      <th>...</th>\n",
       "      <td>...</td>\n",
       "      <td>...</td>\n",
       "    </tr>\n",
       "    <tr>\n",
       "      <th>6488</th>\n",
       "      <td>2012-12-31 19:00:00</td>\n",
       "      <td>279.431549</td>\n",
       "    </tr>\n",
       "    <tr>\n",
       "      <th>6489</th>\n",
       "      <td>2012-12-31 20:00:00</td>\n",
       "      <td>173.867844</td>\n",
       "    </tr>\n",
       "    <tr>\n",
       "      <th>6490</th>\n",
       "      <td>2012-12-31 21:00:00</td>\n",
       "      <td>127.776276</td>\n",
       "    </tr>\n",
       "    <tr>\n",
       "      <th>6491</th>\n",
       "      <td>2012-12-31 22:00:00</td>\n",
       "      <td>95.589066</td>\n",
       "    </tr>\n",
       "    <tr>\n",
       "      <th>6492</th>\n",
       "      <td>2012-12-31 23:00:00</td>\n",
       "      <td>66.387192</td>\n",
       "    </tr>\n",
       "  </tbody>\n",
       "</table>\n",
       "<p>6493 rows × 2 columns</p>\n",
       "</div>"
      ],
      "text/plain": [
       "                 datetime       count\n",
       "0     2011-01-20 00:00:00    8.702917\n",
       "1     2011-01-20 01:00:00    5.234558\n",
       "2     2011-01-20 02:00:00    3.483102\n",
       "3     2011-01-20 03:00:00    2.015676\n",
       "4     2011-01-20 04:00:00    1.919580\n",
       "...                   ...         ...\n",
       "6488  2012-12-31 19:00:00  279.431549\n",
       "6489  2012-12-31 20:00:00  173.867844\n",
       "6490  2012-12-31 21:00:00  127.776276\n",
       "6491  2012-12-31 22:00:00   95.589066\n",
       "6492  2012-12-31 23:00:00   66.387192\n",
       "\n",
       "[6493 rows x 2 columns]"
      ]
     },
     "execution_count": 119,
     "metadata": {},
     "output_type": "execute_result"
    }
   ],
   "source": [
    "df_predicted = pd.read_csv('predicted_count_pca.csv')\n",
    "df_predicted"
   ]
  },
  {
   "cell_type": "code",
   "execution_count": null,
   "metadata": {},
   "outputs": [],
   "source": []
  }
 ],
 "metadata": {
  "kernelspec": {
   "display_name": "Python 3",
   "language": "python",
   "name": "python3"
  },
  "language_info": {
   "codemirror_mode": {
    "name": "ipython",
    "version": 3
   },
   "file_extension": ".py",
   "mimetype": "text/x-python",
   "name": "python",
   "nbconvert_exporter": "python",
   "pygments_lexer": "ipython3",
   "version": "3.8.3"
  }
 },
 "nbformat": 4,
 "nbformat_minor": 4
}
